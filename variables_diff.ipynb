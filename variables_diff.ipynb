{
  "nbformat": 4,
  "nbformat_minor": 0,
  "metadata": {
    "colab": {
      "provenance": [],
      "mount_file_id": "1gedzhMOMPhED2teXsKLF4-FVO3cqJYSB",
      "authorship_tag": "ABX9TyMPfzedomQINvtMyQ0Z6ZEs",
      "include_colab_link": true
    },
    "kernelspec": {
      "name": "python3",
      "display_name": "Python 3"
    },
    "language_info": {
      "name": "python"
    }
  },
  "cells": [
    {
      "cell_type": "markdown",
      "metadata": {
        "id": "view-in-github",
        "colab_type": "text"
      },
      "source": [
        "<a href=\"https://colab.research.google.com/github/mansivyas26/perfusion_dataPipeline/blob/main/variables_diff.ipynb\" target=\"_parent\"><img src=\"https://colab.research.google.com/assets/colab-badge.svg\" alt=\"Open In Colab\"/></a>"
      ]
    },
    {
      "cell_type": "code",
      "execution_count": null,
      "metadata": {
        "id": "ACxMkMSV9O3M"
      },
      "outputs": [],
      "source": [
        "import pandas as pd\n",
        "import numpy as np\n",
        "import random\n",
        "import ast\n",
        "import warnings\n",
        "from pandas_gbq import to_gbq\n",
        "from google.cloud import storage\n",
        "from google.cloud import bigquery\n",
        "\n",
        "import pickle\n",
        "\n",
        "warnings.filterwarnings('ignore')"
      ]
    },
    {
      "cell_type": "code",
      "source": [
        "from google.cloud import storage\n",
        "import pickle\n",
        "import pandas as pd\n",
        "\n",
        "def download_pickle_from_gcs(bucket_name):\n",
        "    try:\n",
        "        # Initialize a client\n",
        "        key_path = '/content/drive/MyDrive/Pefusion_DataPipeline/platform-developement-dev-env-7a2997352c88.json'\n",
        "        client = storage.Client.from_service_account_json(key_path)\n",
        "\n",
        "        # Get the bucket\n",
        "        bucket = client.get_bucket(bucket_name)\n",
        "\n",
        "        # List all blobs (files) in the bucket\n",
        "        blobs = bucket.list_blobs()\n",
        "\n",
        "        # Iterate over each blob\n",
        "        for blob in blobs:\n",
        "            # Check if the blob is a file and its name is \"all_data.pkl\"\n",
        "            if blob.name.endswith('.pkl') and blob.name.split('/')[-1] == 'all_data.pkl':\n",
        "                # Download the file\n",
        "                content = blob.download_as_string()\n",
        "\n",
        "                # Load the pickle object from the downloaded content\n",
        "                pickle_object = pickle.loads(content)\n",
        "\n",
        "                # Convert the pickle object to a DataFrame\n",
        "                df = pd.DataFrame(pickle_object)\n",
        "\n",
        "                # Print the DataFrame\n",
        "                print(\"DataFrame:\")\n",
        "                print(df)\n",
        "\n",
        "                # Print success message\n",
        "                print(\"Load success!!!\")\n",
        "\n",
        "                return df\n",
        "\n",
        "        # If no file named \"all_data.pkl\" is found\n",
        "        print(\"File 'all_data.pkl' not found in the bucket.\")\n",
        "        return None\n",
        "\n",
        "    except Exception as e:\n",
        "        print(f\"Error: {e}\")\n",
        "        return None\n",
        "\n"
      ],
      "metadata": {
        "id": "0IbZIUlDO3hH"
      },
      "execution_count": 73,
      "outputs": []
    },
    {
      "cell_type": "code",
      "source": [
        "!pip install --upgrade google-cloud-storage\n"
      ],
      "metadata": {
        "id": "2xGz8BlYTrp6"
      },
      "execution_count": null,
      "outputs": []
    },
    {
      "cell_type": "code",
      "source": [
        "bucket_name = \"mark2_runs_bex_ds_dev\"\n",
        "file_name = \"all_data.pkl\"\n",
        "pickle_object = download_pickle_from_gcs(bucket_name)\n"
      ],
      "metadata": {
        "colab": {
          "base_uri": "https://localhost:8080/"
        },
        "id": "vdAfMaFnQTpS",
        "outputId": "6e3c230b-e786-49c4-a653-088032e80720"
      },
      "execution_count": 74,
      "outputs": [
        {
          "output_type": "stream",
          "name": "stdout",
          "text": [
            "DataFrame:\n",
            "            time  run_start_flag  pulse_generator_autoregulation_flag  \\\n",
            "0       0.000000             NaN                                  NaN   \n",
            "1       0.000278             0.0                                  0.0   \n",
            "2       0.000556             0.0                                  0.0   \n",
            "3       0.000833             0.0                                  0.0   \n",
            "4       0.001111             0.0                                  0.0   \n",
            "...          ...             ...                                  ...   \n",
            "95525  26.534722             1.0                                  1.0   \n",
            "95526  26.535000             1.0                                  1.0   \n",
            "95527  26.535278             1.0                                  1.0   \n",
            "95528  26.535556             1.0                                  1.0   \n",
            "95529  26.535833             1.0                                  1.0   \n",
            "\n",
            "       glucose_control_mode_auto_flag  \\\n",
            "0                                 NaN   \n",
            "1                                 0.0   \n",
            "2                                 0.0   \n",
            "3                                 0.0   \n",
            "4                                 0.0   \n",
            "...                               ...   \n",
            "95525                             1.0   \n",
            "95526                             1.0   \n",
            "95527                             1.0   \n",
            "95528                             1.0   \n",
            "95529                             1.0   \n",
            "\n",
            "       pulse_generator_amp_pressure_range_setpoint  brain_flow_target  \\\n",
            "0                                              NaN                NaN   \n",
            "1                                              0.0                0.0   \n",
            "2                                              0.0                0.0   \n",
            "3                                              0.0                0.0   \n",
            "4                                              0.0                0.0   \n",
            "...                                            ...                ...   \n",
            "95525                                          0.0               10.0   \n",
            "95526                                          0.0               10.0   \n",
            "95527                                          0.0               10.0   \n",
            "95528                                          0.0               10.0   \n",
            "95529                                          0.0               10.0   \n",
            "\n",
            "       brain_pressure_range_target  main_pump_oscillation_flag  \\\n",
            "0                              NaN                         NaN   \n",
            "1                              0.0                         0.0   \n",
            "2                              0.0                         0.0   \n",
            "3                              0.0                         0.0   \n",
            "4                              0.0                         0.0   \n",
            "...                            ...                         ...   \n",
            "95525                          0.0                         1.0   \n",
            "95526                          0.0                         1.0   \n",
            "95527                          0.0                         1.0   \n",
            "95528                          0.0                         1.0   \n",
            "95529                          0.0                         1.0   \n",
            "\n",
            "       viscosity_measured  brain_pressure_measured  ...  exit_all_flag  \\\n",
            "0                     NaN                 2.570860  ...            NaN   \n",
            "1                     0.0                 1.301150  ...            0.0   \n",
            "2                     0.0                 1.964373  ...            0.0   \n",
            "3                     0.0                 1.392612  ...            0.0   \n",
            "4                     0.0                 1.066381  ...            0.0   \n",
            "...                   ...                      ...  ...            ...   \n",
            "95525                 0.0                 8.097717  ...            0.0   \n",
            "95526                 0.0                 8.015547  ...            0.0   \n",
            "95527                 0.0                 7.974463  ...            0.0   \n",
            "95528                 0.0                 7.956855  ...            0.0   \n",
            "95529                 0.0                 8.381396  ...            0.0   \n",
            "\n",
            "       sensorbox_drain_solenoid_2_flag  pulse_generator_value_measured  \\\n",
            "0                             1.000000                             NaN   \n",
            "1                             1.000000                        0.183000   \n",
            "2                             1.000000                        0.183000   \n",
            "3                             1.000000                        0.183000   \n",
            "4                             1.000000                        0.183000   \n",
            "...                                ...                             ...   \n",
            "95525                         0.222222                      134.553146   \n",
            "95526                         1.000000                      133.528104   \n",
            "95527                         1.000000                      133.230021   \n",
            "95528                         0.888889                      135.069167   \n",
            "95529                         0.000000                      137.052500   \n",
            "\n",
            "       brain_pressure_range_calculated  dialysis_flux_rate_setpoint  \\\n",
            "0                                  NaN                          NaN   \n",
            "1                             0.000000                          0.0   \n",
            "2                             2.259653                          0.0   \n",
            "3                             2.259653                          0.0   \n",
            "4                             2.130530                          0.0   \n",
            "...                                ...                          ...   \n",
            "95525                         1.032984                          0.0   \n",
            "95526                         1.032984                          0.0   \n",
            "95527                         0.903861                          0.0   \n",
            "95528                         0.903861                          0.0   \n",
            "95529                         0.903861                          0.0   \n",
            "\n",
            "       heat_exchanger_temperature_setpoint  dialysis_flux_valve_position  \\\n",
            "0                                      NaN                           NaN   \n",
            "1                                     16.0                           0.0   \n",
            "2                                     16.0                           0.0   \n",
            "3                                     16.0                           0.0   \n",
            "4                                     16.0                           0.0   \n",
            "...                                    ...                           ...   \n",
            "95525                                 16.0                           0.0   \n",
            "95526                                 16.0                           0.0   \n",
            "95527                                 16.0                           0.0   \n",
            "95528                                 16.0                           0.0   \n",
            "95529                                 16.0                           0.0   \n",
            "\n",
            "       brain_pressure_target  brain_scale_weight  \\\n",
            "0                        NaN                 NaN   \n",
            "1                        0.0                 NaN   \n",
            "2                        0.0                12.6   \n",
            "3                        0.0                12.6   \n",
            "4                        0.0                12.6   \n",
            "...                      ...                 ...   \n",
            "95525                   16.0               153.0   \n",
            "95526                   16.0               153.0   \n",
            "95527                   16.0               153.0   \n",
            "95528                   16.0               153.0   \n",
            "95529                   16.0               153.0   \n",
            "\n",
            "       pulse_generator_base_lower_bound  \n",
            "0                                   NaN  \n",
            "1                                   6.0  \n",
            "2                                   6.0  \n",
            "3                                   6.0  \n",
            "4                                   6.0  \n",
            "...                                 ...  \n",
            "95525                               6.0  \n",
            "95526                               6.0  \n",
            "95527                               6.0  \n",
            "95528                               6.0  \n",
            "95529                               6.0  \n",
            "\n",
            "[95530 rows x 97 columns]\n",
            "Load success!!!\n"
          ]
        }
      ]
    },
    {
      "cell_type": "code",
      "source": [
        "#read individual runs file .pkl from bigquery\n",
        "#perfusion_data = pd.read_pickle(\"/content/drive/MyDrive/Steve_BEXT84_01-17-2024_13-56-14_all_data.pkl\")"
      ],
      "metadata": {
        "id": "Px1ophy5-N9x"
      },
      "execution_count": null,
      "outputs": []
    },
    {
      "cell_type": "code",
      "source": [
        "perfusion_data = pickle_object"
      ],
      "metadata": {
        "id": "QkUZy41YoKTE"
      },
      "execution_count": 75,
      "outputs": []
    },
    {
      "cell_type": "code",
      "source": [
        "#read variable dictionary\n",
        "variable_dict = pd.read_csv(\"/content/drive/MyDrive/Pefusion_DataPipeline/test_262.02 - test.csv\")\n",
        "\n",
        "variable_dict['possible_variables'] = variable_dict['possible_variables'].apply(ast.literal_eval)\n",
        "#variable_dict.to_csv(\"/content/drive/MyDrive/Pefusion_DataPipeline/test.csv\")\n"
      ],
      "metadata": {
        "id": "DFYUo-YwQOVv"
      },
      "execution_count": 76,
      "outputs": []
    },
    {
      "cell_type": "code",
      "source": [
        "#reading the existing schema\n",
        "schema = pd.read_csv(\"/content/drive/MyDrive/Pefusion_DataPipeline/m12_full_join.csv\",nrows=10)"
      ],
      "metadata": {
        "id": "f5yj61upCFvF"
      },
      "execution_count": 77,
      "outputs": []
    },
    {
      "cell_type": "code",
      "source": [
        "perfusion_data_subset = perfusion_data.head(3)"
      ],
      "metadata": {
        "id": "oefOecUbFCkU"
      },
      "execution_count": null,
      "outputs": []
    },
    {
      "cell_type": "code",
      "source": [
        "#check scehma with variable dictionary and renames the column if needed to standard_variable\n",
        "def check_schema(schema,variable_dict):\n",
        "  columns = schema.columns.tolist()\n",
        "  for column in columns:\n",
        "        match_found = False\n",
        "        for idx, row in variable_dict.iterrows():\n",
        "            if column in row['possible_variables']:\n",
        "                match_found = True\n",
        "                if column != row['standard_variable']:\n",
        "                    print(\"columns that were renamed\",column)\n",
        "                    schema.rename(columns={column: row['standard_variable']}, inplace=True)"
      ],
      "metadata": {
        "id": "jYXEx7oGnlK-"
      },
      "execution_count": 78,
      "outputs": []
    },
    {
      "cell_type": "code",
      "source": [
        "#function call\n",
        "check_schema(schema,variable_dict)"
      ],
      "metadata": {
        "colab": {
          "base_uri": "https://localhost:8080/"
        },
        "id": "dcLRQwGiqwhH",
        "outputId": "3d278daa-e1b9-485c-c1bd-5fbbd34f2ff0"
      },
      "execution_count": 79,
      "outputs": [
        {
          "output_type": "stream",
          "name": "stdout",
          "text": [
            "columns that were renamed glucose_control_mode\n",
            "columns that were renamed syringe_pump_manual_setrate\n",
            "columns that were renamed time\n",
            "columns that were renamed probe_ph_mv_measured\n",
            "columns that were renamed glucose_pump_rate_setpoint\n"
          ]
        }
      ]
    },
    {
      "cell_type": "code",
      "source": [
        "\n",
        "def check_columns(df):\n",
        "  val = 'None'\n",
        "  if val in df.columns:\n",
        "      # Drop the column named 'None'\n",
        "      df = df.drop(columns=[val])\n"
      ],
      "metadata": {
        "id": "1iwiiTtxx7eq"
      },
      "execution_count": 80,
      "outputs": []
    },
    {
      "cell_type": "code",
      "source": [
        "check_columns(perfusion_data_subset)"
      ],
      "metadata": {
        "id": "setYf4U3yDaI"
      },
      "execution_count": 81,
      "outputs": []
    },
    {
      "cell_type": "code",
      "source": [
        "check_columns(schema)"
      ],
      "metadata": {
        "id": "MtQYCcK2yG7m"
      },
      "execution_count": 82,
      "outputs": []
    },
    {
      "cell_type": "code",
      "source": [
        "#compare .pkl file , variable dicitionary and Schema\n",
        "\n",
        "def check_runs_with_variable_dict_new(pkl_df, variable_dict, schema_subset):\n",
        "\n",
        "    removed_columns = []  # List to keep track of REMOVED columns\n",
        "    list_of_files_ignored_in_pkl = ['timestamp','glucose_syringe_pump_buzzer']\n",
        "    list_of_files_ignored_in_schema = ['resistance_qc_solenoid_flag','perfusion_date','perfusion_id','control_time','glucose_syringe_pump_dispensed_control', 'glucose_syringe_pump_buzzer_control']\n",
        "\n",
        "    temporary_none = ['dialysis_compensate_scale_weight','dialysis_flux_valve_position','viscometer_temperature','dialysis_post_pressure','dialysis_compensate_pump_rate','dialysis_compensate_scale_flux','dialysis_pre_pressure','dialysis_pre_pressure_setpoint','dialysis_pressure_valve_position','dialysis_waste_scale_flux','dialysis_waste_scale_weight','']\n",
        "    #list of variables to be added in schema\n",
        "    for idx, row in variable_dict.iterrows():\n",
        "            if row['standard_variable'] in list_of_files_ignored_in_schema:\n",
        "                  pkl_df[row['standard_variable']] = \"to be added\"\n",
        "    columns = pkl_df.columns.tolist()\n",
        "    for column in columns:\n",
        "        match_found = False\n",
        "        for idx, row in variable_dict.iterrows():\n",
        "           if column in row['possible_variables']:\n",
        "                match_found = True\n",
        "                if row['variable_status'] == \"EXISTING\" and column != row['standard_variable']:\n",
        "                    pkl_df.rename(columns={column: row['standard_variable']}, inplace=True)\n",
        "                    if column in schema_subset.columns:\n",
        "                        schema_subset.rename(columns={column: row['standard_variable']}, inplace=True)\n",
        "                elif row['variable_status'] == \"NEW\":\n",
        "                    #add a column with name row['standard_variable'] and  value = None\n",
        "                    variable_dict.loc[idx,'variable_status'] = \"EXISTING\"\n",
        "                  #rename to standard variable\n",
        "                    if row['standard_variable'] not in schema_subset.columns:\n",
        "                        schema_subset[row['standard_variable']] = None\n",
        "\n",
        "                elif row['variable_status'] == \"REMOVED\":\n",
        "                   # print(f\"Removed column identified: {column}\")\n",
        "                    removed_columns.append(column)\n",
        "                    for c in removed_columns:\n",
        "                      print(removed_columns)\n",
        "                      pkl_df[c] = None\n",
        "\n",
        "\n",
        "           if not match_found:\n",
        "              if row['variable_status'] == \"REMOVED\":\n",
        "               pkl_df[column] = \"removed\"\n",
        "              for val in temporary_none:\n",
        "                if val in schema_subset.columns and val not in pkl_df.columns:\n",
        "        # Add a new column to the pkl DataFrame with the value initialized as None\n",
        "                 pkl_df[val] = \"None\"\n",
        "\n",
        "\n",
        "    cols_to_drop = list(set(pkl_df.columns).intersection(set(list_of_files_ignored_in_pkl)))\n",
        "    print(cols_to_drop)\n",
        "    pkl_df = pkl_df.drop(cols_to_drop,inplace=True,axis=1)\n",
        "\n",
        "\n",
        "\n",
        "\n",
        "\n",
        "\n"
      ],
      "metadata": {
        "id": "O9DGDd8fFWZD"
      },
      "execution_count": 83,
      "outputs": []
    },
    {
      "cell_type": "code",
      "source": [
        "def check_columns_match(df1, df2):\n",
        "    columns_df1 = set(df1.columns)\n",
        "    columns_df2 = set(df2.columns)\n",
        "\n",
        "    if columns_df1 != columns_df2:\n",
        "        columns_only_in_df1 = columns_df1 - columns_df2\n",
        "        columns_only_in_df2 = columns_df2 - columns_df1\n",
        "\n",
        "        print(\"Columns only in .pkl file:\", columns_only_in_df1)\n",
        "        print(\"Columns only in schema:\", columns_only_in_df2)\n",
        "        print(len(columns_only_in_df2),\"only_schema\")\n",
        "        print(len(columns_only_in_df1),\"only_pkl\")\n",
        "\n",
        "        return False\n",
        "    else:\n",
        "        print(len(df1.columns),\"pkl\")\n",
        "        print(len(df2.columns),\"schema\")\n",
        "        print(\"Columns match between the two DataFrames.\")\n",
        "        return True\n",
        "\n",
        "def append_df_row_wise(pkl_df, schema_df):\n",
        "    #pkl_df = pkl_df.drop(columns=['None'],inplace=True)\n",
        "\n",
        "    # Check if columns match\n",
        "    if not check_columns_match(pkl_df, schema_df):\n",
        "      return None\n",
        "    else:\n",
        "      schema_df = schema_df[sorted(schema_df.columns)]\n",
        "      pkl_df = pkl_df[sorted(pkl_df.columns)]\n",
        "\n",
        "\n",
        "\n",
        "      #add rows only if perfusion_id looks like BEXT\n",
        "      combined_df = schema_df.append(pkl_df,ignore_index=True)\n",
        "\n",
        "      #combined_df.to_csv(\"/content/drive/MyDrive/Pefusion_DataPipeline/combined.csv\")\n",
        "      print(combined_df)\n",
        "\n"
      ],
      "metadata": {
        "id": "2cl-bKVl7Jto"
      },
      "execution_count": 49,
      "outputs": []
    },
    {
      "cell_type": "code",
      "source": [
        "#create individual table for dryrun - filter perfusion dataset convert bq table"
      ],
      "metadata": {
        "id": "tbo8AbjLhTgO"
      },
      "execution_count": null,
      "outputs": []
    },
    {
      "cell_type": "code",
      "source": [
        "#create indivudual table for human runs - filter perfusion dataset convert bq table"
      ],
      "metadata": {
        "id": "pvEYQP21hXKU"
      },
      "execution_count": null,
      "outputs": []
    },
    {
      "cell_type": "code",
      "source": [
        "print(append_df_row_wise(perfusion_data_subset,schema))"
      ],
      "metadata": {
        "colab": {
          "base_uri": "https://localhost:8080/"
        },
        "id": "is6yS-LAxxK0",
        "outputId": "70dace21-fea4-40fb-cf28-fef9648da4ac"
      },
      "execution_count": 50,
      "outputs": [
        {
          "output_type": "stream",
          "name": "stdout",
          "text": [
            "132 pkl\n",
            "132 schema\n",
            "Columns match between the two DataFrames.\n",
            "    air_supply_pressure  arduino_reset_relay  auto_sampler_flag  \\\n",
            "0                   NaN                  NaN                NaN   \n",
            "1                   NaN                  NaN                NaN   \n",
            "2                   NaN                  NaN                NaN   \n",
            "3                   NaN                  NaN                NaN   \n",
            "4                   NaN                  NaN                NaN   \n",
            "5                   NaN                  NaN                NaN   \n",
            "6                   NaN                  NaN                NaN   \n",
            "7                   NaN                  NaN                NaN   \n",
            "8                   NaN                  NaN                NaN   \n",
            "9                   NaN                  NaN                NaN   \n",
            "10                  NaN                  NaN                NaN   \n",
            "11                336.0                  0.0               -1.0   \n",
            "12                339.0                  0.0                1.0   \n",
            "\n",
            "    autopilot_flag  brain_box_drain_solenoid_flag  \\\n",
            "0              NaN                            0.0   \n",
            "1              NaN                            0.0   \n",
            "2              NaN                            0.0   \n",
            "3              NaN                            0.0   \n",
            "4              NaN                            0.0   \n",
            "5              NaN                            0.0   \n",
            "6              NaN                            0.0   \n",
            "7              NaN                            0.0   \n",
            "8              NaN                            0.0   \n",
            "9              NaN                            0.0   \n",
            "10             NaN                            NaN   \n",
            "11             0.0                            1.0   \n",
            "12             0.0                            1.0   \n",
            "\n",
            "    brain_box_waste_solenoid_flag  brain_flow_measured  \\\n",
            "0                             NaN                  2.0   \n",
            "1                             NaN                  2.0   \n",
            "2                             NaN                  2.0   \n",
            "3                             NaN                  2.0   \n",
            "4                             NaN                  2.0   \n",
            "5                             NaN                  2.0   \n",
            "6                             NaN                  2.0   \n",
            "7                             NaN                  2.0   \n",
            "8                             NaN                  2.0   \n",
            "9                             NaN                  2.0   \n",
            "10                            NaN                  0.0   \n",
            "11                            1.0                  0.0   \n",
            "12                            1.0                  0.0   \n",
            "\n",
            "   brain_flow_range_calculated brain_flow_range_target  brain_flow_target  \\\n",
            "0                         None                    None                NaN   \n",
            "1                         None                    None                NaN   \n",
            "2                         None                    None                NaN   \n",
            "3                         None                    None                NaN   \n",
            "4                         None                    None                NaN   \n",
            "5                         None                    None                NaN   \n",
            "6                         None                    None                NaN   \n",
            "7                         None                    None                NaN   \n",
            "8                         None                    None                NaN   \n",
            "9                         None                    None                NaN   \n",
            "10                         NaN                     NaN                NaN   \n",
            "11                         0.0                     0.0                0.0   \n",
            "12                         0.0                     0.0                0.0   \n",
            "\n",
            "    ...  resistance_qc_solenoid_flag resistance_regulation_flag  \\\n",
            "0   ...                          NaN                       None   \n",
            "1   ...                          NaN                       None   \n",
            "2   ...                          NaN                       None   \n",
            "3   ...                          NaN                       None   \n",
            "4   ...                          NaN                       None   \n",
            "5   ...                          NaN                       None   \n",
            "6   ...                          NaN                       None   \n",
            "7   ...                          NaN                       None   \n",
            "8   ...                          NaN                       None   \n",
            "9   ...                          NaN                       None   \n",
            "10  ...                      removed                    removed   \n",
            "11  ...                      removed                    removed   \n",
            "12  ...                      removed                    removed   \n",
            "\n",
            "   run_start_flag  sensorbox_drain_solenoid_1_flag  \\\n",
            "0             NaN                              NaN   \n",
            "1             NaN                              NaN   \n",
            "2             NaN                              NaN   \n",
            "3             NaN                              NaN   \n",
            "4             NaN                              NaN   \n",
            "5             NaN                              NaN   \n",
            "6             NaN                              NaN   \n",
            "7             NaN                              NaN   \n",
            "8             NaN                              NaN   \n",
            "9             NaN                              NaN   \n",
            "10        removed                          removed   \n",
            "11        removed                          removed   \n",
            "12        removed                          removed   \n",
            "\n",
            "    sensorbox_drain_solenoid_2_flag  system_state  time(in hrs)  \\\n",
            "0                               NaN           NaN           0.0   \n",
            "1                               NaN           NaN       0.00027   \n",
            "2                               NaN           NaN       0.00054   \n",
            "3                               NaN           NaN       0.00081   \n",
            "4                               NaN           NaN       0.00108   \n",
            "5                               NaN           NaN       0.00135   \n",
            "6                               NaN           NaN       0.00162   \n",
            "7                               NaN           NaN       0.00189   \n",
            "8                               NaN           NaN       0.00216   \n",
            "9                               NaN           NaN       0.00243   \n",
            "10                          removed       removed       removed   \n",
            "11                          removed       removed       removed   \n",
            "12                          removed       removed       removed   \n",
            "\n",
            "   update_controls_var_flag viscometer_temperature viscosity_measured  \n",
            "0                      None                   23.7                0.0  \n",
            "1                      None                   23.7                0.0  \n",
            "2                      None                   23.7                0.0  \n",
            "3                      None                   23.7                0.0  \n",
            "4                      None                   23.7                0.0  \n",
            "5                      None                   23.7                0.0  \n",
            "6                      None                   23.7                0.0  \n",
            "7                      None                   23.7                0.0  \n",
            "8                      None                   23.7                0.0  \n",
            "9                      None                   23.7                0.0  \n",
            "10                  removed                removed            removed  \n",
            "11                  removed                removed            removed  \n",
            "12                  removed                removed            removed  \n",
            "\n",
            "[13 rows x 134 columns]\n",
            "None\n"
          ]
        }
      ]
    },
    {
      "cell_type": "code",
      "source": [
        "print(check_runs_with_variable_dict_new(perfusion_data_subset,variable_dict,schema))"
      ],
      "metadata": {
        "colab": {
          "base_uri": "https://localhost:8080/"
        },
        "id": "bBcdqz3TWnd4",
        "outputId": "f335eaa6-4673-4957-dfa1-c20c6625e2a2"
      },
      "execution_count": 84,
      "outputs": [
        {
          "output_type": "stream",
          "name": "stdout",
          "text": [
            "['control_time']\n",
            "['control_time', 'glucose_syringe_pump_buzzer_control']\n",
            "['control_time', 'glucose_syringe_pump_buzzer_control']\n",
            "[]\n",
            "None\n"
          ]
        }
      ]
    },
    {
      "cell_type": "code",
      "source": [],
      "metadata": {
        "id": "z-r7p0cwyZPE"
      },
      "execution_count": null,
      "outputs": []
    },
    {
      "cell_type": "code",
      "source": [
        "def duplicate_columns_func(df):\n",
        "  duplicate_columns = df.columns[df.columns.duplicated()]\n",
        "  print(duplicate_columns)\n",
        "\n",
        "  # Drop just one duplicate column\n",
        "  if duplicate_columns.any():\n",
        "      column_to_drop = duplicate_columns[0]  # Select the first duplicate column to drop\n",
        "      df.drop(columns=column_to_drop, inplace=True)\n",
        "      print(\"Duplicate column dropped:\", column_to_drop)\n",
        "  else:\n",
        "      print(\"No duplicate columns found.\")\n",
        "\n",
        "  print(\"DataFrame after dropping duplicate column:\")\n",
        "  print(df)"
      ],
      "metadata": {
        "id": "v-bmvmWZ0PFU"
      },
      "execution_count": null,
      "outputs": []
    },
    {
      "cell_type": "code",
      "source": [],
      "metadata": {
        "id": "p6aHudUt0XMI"
      },
      "execution_count": null,
      "outputs": []
    },
    {
      "cell_type": "code",
      "source": [
        "list1 = ['glucose_syringe_pump_volume_setpoint', 'syringe_pump_volume_setpoint', 'glucose_pump_rate_automatic_setpoint']\n",
        "list2 = schema.columns.to_list()\n",
        "list3 = perfusion_data_subset.columns.to_list()"
      ],
      "metadata": {
        "id": "G6plQhq_E5NE"
      },
      "execution_count": null,
      "outputs": []
    },
    {
      "cell_type": "code",
      "source": [
        "def find_matching_values(list1, list2):\n",
        "    return list(set(list1) & set(list2))"
      ],
      "metadata": {
        "id": "0PHBtvzuFO1X"
      },
      "execution_count": null,
      "outputs": []
    },
    {
      "cell_type": "code",
      "source": [
        "find_matching_values(list1,list3)\n",
        "#find_matching_values(glucose_syringe_pump_volume_setpoint,glucose_syringe_pump_hour_setrate)"
      ],
      "metadata": {
        "colab": {
          "base_uri": "https://localhost:8080/"
        },
        "id": "_sJfz9p4FP3q",
        "outputId": "c15ad8b6-6066-4b04-acb9-04a09684209d"
      },
      "execution_count": null,
      "outputs": [
        {
          "output_type": "execute_result",
          "data": {
            "text/plain": [
              "['syringe_pump_volume_setpoint', 'glucose_pump_rate_automatic_setpoint']"
            ]
          },
          "metadata": {},
          "execution_count": 467
        }
      ]
    },
    {
      "cell_type": "code",
      "source": [
        "from google.cloud import bigquery\n",
        "from google.cloud.exceptions import NotFound\n",
        "\n",
        "\n",
        "def create_table_and_load_df(project_id, dataset_id, table_id, df, key_path):\n",
        "    # Initialize BigQuery client with service account key\n",
        "    client = bigquery.Client.from_service_account_json(key_path, project=project_id)\n",
        "    dataset_ref = client.dataset(dataset_id)\n",
        "\n",
        "    # Create dataset if it doesn't exist\n",
        "    dataset = bigquery.Dataset(dataset_ref)\n",
        "    if not client.get_dataset(dataset_ref, retry=None):\n",
        "        dataset = client.create_dataset(dataset)\n",
        "\n",
        "    table_ref = dataset_ref.table(table_id)\n",
        "\n",
        "    # Define the schema based on the DataFrame data types\n",
        "    schema = []\n",
        "    for column, dtype in df.dtypes.items():\n",
        "        if dtype == 'int64':\n",
        "            schema.append(bigquery.SchemaField(column, 'INTEGER'))\n",
        "        elif dtype == 'float64':\n",
        "            schema.append(bigquery.SchemaField(column, 'FLOAT64'))\n",
        "        elif dtype == 'object':\n",
        "            schema.append(bigquery.SchemaField(column, 'STRING'))\n",
        "        # Add more conditions for other data types as needed\n",
        "\n",
        "    # Create the table with the specified schema\n",
        "    table = bigquery.Table(table_ref, schema=schema)\n",
        "    table = client.create_table(table)\n",
        "\n",
        "    # Load the DataFrame into the table\n",
        "    job_config = bigquery.LoadJobConfig(schema=schema)\n",
        "    client.load_table_from_dataframe(df, table_ref, job_config=job_config).result()\n",
        "\n",
        "    print(f'Data loaded into BigQuery table {project_id}.{dataset_id}.{table_id}.')\n"
      ],
      "metadata": {
        "id": "luMz91BjHYtI"
      },
      "execution_count": 65,
      "outputs": []
    },
    {
      "cell_type": "code",
      "source": [
        "project_id = 'platform-developement-dev-env'\n",
        "dataset_id = 'dataConsistency_test'\n",
        "table_id = 'BEXT84_updated_test'\n",
        "key_path = \"/content/drive/MyDrive/Pefusion_DataPipeline/platform-developement-dev-env-7a2997352c88.json\"\n",
        "\n",
        "# Call the function to create the table (if it doesn't exist) and load the DataFrame\n",
        "create_table_and_load_df(project_id, dataset_id, table_id, perfusion_data_subset_copy,key_path)"
      ],
      "metadata": {
        "colab": {
          "base_uri": "https://localhost:8080/"
        },
        "id": "7YAj-RccSerk",
        "outputId": "ce47063b-b238-4f3d-f13e-81561578f039"
      },
      "execution_count": 68,
      "outputs": [
        {
          "output_type": "stream",
          "name": "stdout",
          "text": [
            "Data loaded into BigQuery table platform-developement-dev-env.dataConsistency_test.BEXT84_updated_test.\n"
          ]
        }
      ]
    },
    {
      "cell_type": "markdown",
      "source": [],
      "metadata": {
        "id": "OoFRe9F-SNZB"
      }
    },
    {
      "cell_type": "code",
      "source": [
        "from collections import Counter\n",
        "\n",
        "my_list = perfusion_data_subset.columns.to_list()  # Example list\n",
        "\n",
        "# Count occurrences of each element\n",
        "counts = Counter(my_list)\n",
        "\n",
        "# Find duplicate values\n",
        "duplicates = [item for item, count in counts.items() if count > 1]\n",
        "\n",
        "print(\"Duplicate values:\", duplicates)"
      ],
      "metadata": {
        "colab": {
          "base_uri": "https://localhost:8080/"
        },
        "id": "F_Fwgk05wGqm",
        "outputId": "011ffa71-8556-4436-ac89-46c5e27a7d1a"
      },
      "execution_count": 44,
      "outputs": [
        {
          "output_type": "stream",
          "name": "stdout",
          "text": [
            "Duplicate values: ['glucose_syringe_pump_hour_setrate']\n"
          ]
        }
      ]
    }
  ]
}