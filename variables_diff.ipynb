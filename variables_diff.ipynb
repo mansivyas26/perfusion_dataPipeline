{
  "nbformat": 4,
  "nbformat_minor": 0,
  "metadata": {
    "colab": {
      "provenance": [],
      "mount_file_id": "1gedzhMOMPhED2teXsKLF4-FVO3cqJYSB",
      "authorship_tag": "ABX9TyPpMBusAvrYXN2jjaBSmLvC",
      "include_colab_link": true
    },
    "kernelspec": {
      "name": "python3",
      "display_name": "Python 3"
    },
    "language_info": {
      "name": "python"
    }
  },
  "cells": [
    {
      "cell_type": "markdown",
      "metadata": {
        "id": "view-in-github",
        "colab_type": "text"
      },
      "source": [
        "<a href=\"https://colab.research.google.com/github/mansivyas26/perfusion_dataPipeline/blob/main/variables_diff.ipynb\" target=\"_parent\"><img src=\"https://colab.research.google.com/assets/colab-badge.svg\" alt=\"Open In Colab\"/></a>"
      ]
    },
    {
      "cell_type": "code",
      "execution_count": 9,
      "metadata": {
        "id": "ACxMkMSV9O3M"
      },
      "outputs": [],
      "source": [
        "import pandas as pd\n",
        "import numpy as np\n",
        "import random\n",
        "import ast"
      ]
    },
    {
      "cell_type": "code",
      "source": [
        "perfusion_data = pd.read_pickle(\"/content/drive/MyDrive/Steve_BEXT84_01-17-2024_13-56-14_all_data.pkl\")"
      ],
      "metadata": {
        "id": "Px1ophy5-N9x"
      },
      "execution_count": 10,
      "outputs": []
    },
    {
      "cell_type": "code",
      "source": [
        "variable_dict = pd.read_csv(\"/content/drive/MyDrive/Pefusion_DataPipeline/variable_dict_v_1.csv\")\n",
        "\n"
      ],
      "metadata": {
        "id": "DFYUo-YwQOVv"
      },
      "execution_count": 11,
      "outputs": []
    },
    {
      "cell_type": "code",
      "source": [
        "variable_dict.loc[variable_dict['standard_variable'].isna(), 'standard_variable'] = 'removed_variable'"
      ],
      "metadata": {
        "id": "u_Th_iIMFpWU"
      },
      "execution_count": 12,
      "outputs": []
    },
    {
      "cell_type": "code",
      "source": [
        "def check_runs_with_variable_dict_map(columns, variable_dict):\n",
        "    # Create a dictionary to map column names to their corresponding information\n",
        "    column_info_map = {lst_item: {'possible_variables': lst, 'variable_status': status, 'standard_variable': std_var}\n",
        "                       for lst, status, std_var in zip(variable_dict['possible_variables'],\n",
        "                                                       variable_dict['variable_status'],\n",
        "                                                       variable_dict['standard_variable']) for lst_item in lst}\n",
        "\n",
        "    for column in columns:\n",
        "        #print(column_info_map)\n",
        "        if column in column_info_map:\n",
        "         #   print(column_info_map)\n",
        "          #  print(\"column found in info_map\",column)\n",
        "            column_info = column_info_map[column]\n",
        "            if column_info['variable_status'] == \"EXISTING\" and column != column_info['standard_variable']:\n",
        "                print(\"column found to exsist\")\n",
        "                # Change the column value to the corresponding standard variable value\n",
        "                print(\"Changing column \" + column + \" to \" + column_info['standard_variable'])\n",
        "                column = column_info['standard_variable']\n",
        "            elif column_info['variable_status'] == \"NEW\":\n",
        "                print(\"new column, need to backfill\")\n",
        "                # Generate an alert on Slack for new column to be added to schema\n",
        "                print(\"New column to be added on schema: \" + column)\n",
        "            elif column_info['variable_status'] == \"REMOVED\":\n",
        "                # Generate an alert on Slack for removed column identified\n",
        "                print(\"Removed column identified: \" + column)\n",
        "                # You can perform removal operation here\n",
        "        else:\n",
        "            # Generate a Slack alert for unidentified variable found\n",
        "            print(\"Unidentified variable found: \" + column)\n",
        "\n",
        "\n",
        "\n",
        "\n"
      ],
      "metadata": {
        "id": "_yUzjeaxIVmB"
      },
      "execution_count": 53,
      "outputs": []
    },
    {
      "cell_type": "code",
      "source": [
        "def check_runs_with_variable_dict(columns, variable_dict):\n",
        "    for column in columns:\n",
        "        match_found = False\n",
        "        for idx, lst in enumerate(variable_dict['possible_variables']):\n",
        "            if column in lst:\n",
        "                match_found = True\n",
        "                if variable_dict['variable_status'][idx] == \"EXISTING\" and column != variable_dict['standard_variable'][idx]:\n",
        "                    # Change the column value to the corresponding standard variable value\n",
        "                    print(\"Changing column \" + column + \" to \" + variable_dict['standard_variable'][idx])\n",
        "                    column = variable_dict['standard_variable'][idx]\n",
        "                elif variable_dict['variable_status'][idx] == \"NEW\":\n",
        "                    # Generate an alert on Slack for new column to be added to schema\n",
        "                    print(\"New column to be added on schema: \" + column)\n",
        "                elif variable_dict['variable_status'][idx] == \"REMOVED\":\n",
        "                    # Generate an alert on Slack for removed column identified\n",
        "                    print(\"Removed column identified: \" + column)\n",
        "                    # You can perform removal operation here\n",
        "                break  # No need to check further lists\n",
        "        if not match_found:\n",
        "            # Generate a Slack alert for unidentified variable found\n",
        "            print(\"Unidentified variable found: \" + column)\n"
      ],
      "metadata": {
        "id": "_nxQLKrVqez_"
      },
      "execution_count": 47,
      "outputs": []
    },
    {
      "cell_type": "code",
      "source": [
        "variable_dict['possible_variables'] = variable_dict['possible_variables'].apply(ast.literal_eval)"
      ],
      "metadata": {
        "id": "_hcfmQWpSpFK"
      },
      "execution_count": 16,
      "outputs": []
    },
    {
      "cell_type": "code",
      "source": [
        "for index, row in variable_dict.iterrows():\n",
        "    row['possible_variables'].append(row['standard_variable'])"
      ],
      "metadata": {
        "id": "teIms0AY2j6U"
      },
      "execution_count": 17,
      "outputs": []
    },
    {
      "cell_type": "code",
      "source": [
        "extract_first_ten = lambda lst: lst[:10]\n",
        "perfusion_data_cols_subset = extract_first_ten(perfusio_data_cols)"
      ],
      "metadata": {
        "id": "Q0XJV6ETmIQT"
      },
      "execution_count": 112,
      "outputs": []
    },
    {
      "cell_type": "code",
      "source": [
        "variable_dict_subset = variable_dict.head(10)"
      ],
      "metadata": {
        "id": "tC3QnZTmmvis"
      },
      "execution_count": 111,
      "outputs": []
    },
    {
      "cell_type": "code",
      "source": [
        "\n",
        "perfusio_data_cols =perfusion_data.columns"
      ],
      "metadata": {
        "id": "HW08dqodXS_H"
      },
      "execution_count": 20,
      "outputs": []
    },
    {
      "cell_type": "code",
      "source": [
        "perfusio_data_cols=sorted(perfusio_data_cols)"
      ],
      "metadata": {
        "id": "bBcdqz3TWnd4"
      },
      "execution_count": 108,
      "outputs": []
    },
    {
      "cell_type": "code",
      "source": [
        "filtered_df = variable_dict[variable_dict['standard_variable'] == 'gas_mixer_n2_efficiency']\n",
        "\n",
        "# Print the filtered DataFrame\n",
        "print(filtered_df['possible_variables'])\n"
      ],
      "metadata": {
        "colab": {
          "base_uri": "https://localhost:8080/"
        },
        "id": "31M7_x1ozQ50",
        "outputId": "3c0bf716-7a24-4fb3-81df-184928e885d4"
      },
      "execution_count": 29,
      "outputs": [
        {
          "output_type": "stream",
          "name": "stdout",
          "text": [
            "48    [Efficiency Gas N2,efficiency_gas_mixer_n2, gas_mixer_n2_efficiency]\n",
            "Name: possible_variables, dtype: object\n"
          ]
        }
      ]
    },
    {
      "cell_type": "code",
      "source": [
        "test_list = []\n",
        "for val in perfusio_data_cols:\n",
        "  if val == \"gas_mixer_n2_efficiency\" or val == \"efficiency_gas_mixer_n2\" or val==\"Efficiency Gas N2\":\n",
        "    test_list.append(val)"
      ],
      "metadata": {
        "id": "jnfeIebyZl7T"
      },
      "execution_count": 21,
      "outputs": []
    },
    {
      "cell_type": "code",
      "source": [
        "filtered_df"
      ],
      "metadata": {
        "colab": {
          "base_uri": "https://localhost:8080/",
          "height": 81
        },
        "id": "xE4j3D3haWJp",
        "outputId": "c4c5eb88-77ac-42fd-ab88-ee12fe74eca3"
      },
      "execution_count": 30,
      "outputs": [
        {
          "output_type": "execute_result",
          "data": {
            "text/plain": [
              "    Unnamed: 0        standard_variable  \\\n",
              "48          48  gas_mixer_n2_efficiency   \n",
              "\n",
              "                                                      possible_variables  \\\n",
              "48  [Efficiency Gas N2,efficiency_gas_mixer_n2, gas_mixer_n2_efficiency]   \n",
              "\n",
              "   variable_status  \n",
              "48        EXISTING  "
            ],
            "text/html": [
              "\n",
              "  <div id=\"df-e538657f-cb65-4228-94b8-de7dd95b6ab9\" class=\"colab-df-container\">\n",
              "    <div>\n",
              "<style scoped>\n",
              "    .dataframe tbody tr th:only-of-type {\n",
              "        vertical-align: middle;\n",
              "    }\n",
              "\n",
              "    .dataframe tbody tr th {\n",
              "        vertical-align: top;\n",
              "    }\n",
              "\n",
              "    .dataframe thead th {\n",
              "        text-align: right;\n",
              "    }\n",
              "</style>\n",
              "<table border=\"1\" class=\"dataframe\">\n",
              "  <thead>\n",
              "    <tr style=\"text-align: right;\">\n",
              "      <th></th>\n",
              "      <th>Unnamed: 0</th>\n",
              "      <th>standard_variable</th>\n",
              "      <th>possible_variables</th>\n",
              "      <th>variable_status</th>\n",
              "    </tr>\n",
              "  </thead>\n",
              "  <tbody>\n",
              "    <tr>\n",
              "      <th>48</th>\n",
              "      <td>48</td>\n",
              "      <td>gas_mixer_n2_efficiency</td>\n",
              "      <td>[Efficiency Gas N2,efficiency_gas_mixer_n2, gas_mixer_n2_efficiency]</td>\n",
              "      <td>EXISTING</td>\n",
              "    </tr>\n",
              "  </tbody>\n",
              "</table>\n",
              "</div>\n",
              "    <div class=\"colab-df-buttons\">\n",
              "\n",
              "  <div class=\"colab-df-container\">\n",
              "    <button class=\"colab-df-convert\" onclick=\"convertToInteractive('df-e538657f-cb65-4228-94b8-de7dd95b6ab9')\"\n",
              "            title=\"Convert this dataframe to an interactive table.\"\n",
              "            style=\"display:none;\">\n",
              "\n",
              "  <svg xmlns=\"http://www.w3.org/2000/svg\" height=\"24px\" viewBox=\"0 -960 960 960\">\n",
              "    <path d=\"M120-120v-720h720v720H120Zm60-500h600v-160H180v160Zm220 220h160v-160H400v160Zm0 220h160v-160H400v160ZM180-400h160v-160H180v160Zm440 0h160v-160H620v160ZM180-180h160v-160H180v160Zm440 0h160v-160H620v160Z\"/>\n",
              "  </svg>\n",
              "    </button>\n",
              "\n",
              "  <style>\n",
              "    .colab-df-container {\n",
              "      display:flex;\n",
              "      gap: 12px;\n",
              "    }\n",
              "\n",
              "    .colab-df-convert {\n",
              "      background-color: #E8F0FE;\n",
              "      border: none;\n",
              "      border-radius: 50%;\n",
              "      cursor: pointer;\n",
              "      display: none;\n",
              "      fill: #1967D2;\n",
              "      height: 32px;\n",
              "      padding: 0 0 0 0;\n",
              "      width: 32px;\n",
              "    }\n",
              "\n",
              "    .colab-df-convert:hover {\n",
              "      background-color: #E2EBFA;\n",
              "      box-shadow: 0px 1px 2px rgba(60, 64, 67, 0.3), 0px 1px 3px 1px rgba(60, 64, 67, 0.15);\n",
              "      fill: #174EA6;\n",
              "    }\n",
              "\n",
              "    .colab-df-buttons div {\n",
              "      margin-bottom: 4px;\n",
              "    }\n",
              "\n",
              "    [theme=dark] .colab-df-convert {\n",
              "      background-color: #3B4455;\n",
              "      fill: #D2E3FC;\n",
              "    }\n",
              "\n",
              "    [theme=dark] .colab-df-convert:hover {\n",
              "      background-color: #434B5C;\n",
              "      box-shadow: 0px 1px 3px 1px rgba(0, 0, 0, 0.15);\n",
              "      filter: drop-shadow(0px 1px 2px rgba(0, 0, 0, 0.3));\n",
              "      fill: #FFFFFF;\n",
              "    }\n",
              "  </style>\n",
              "\n",
              "    <script>\n",
              "      const buttonEl =\n",
              "        document.querySelector('#df-e538657f-cb65-4228-94b8-de7dd95b6ab9 button.colab-df-convert');\n",
              "      buttonEl.style.display =\n",
              "        google.colab.kernel.accessAllowed ? 'block' : 'none';\n",
              "\n",
              "      async function convertToInteractive(key) {\n",
              "        const element = document.querySelector('#df-e538657f-cb65-4228-94b8-de7dd95b6ab9');\n",
              "        const dataTable =\n",
              "          await google.colab.kernel.invokeFunction('convertToInteractive',\n",
              "                                                    [key], {});\n",
              "        if (!dataTable) return;\n",
              "\n",
              "        const docLinkHtml = 'Like what you see? Visit the ' +\n",
              "          '<a target=\"_blank\" href=https://colab.research.google.com/notebooks/data_table.ipynb>data table notebook</a>'\n",
              "          + ' to learn more about interactive tables.';\n",
              "        element.innerHTML = '';\n",
              "        dataTable['output_type'] = 'display_data';\n",
              "        await google.colab.output.renderOutput(dataTable, element);\n",
              "        const docLink = document.createElement('div');\n",
              "        docLink.innerHTML = docLinkHtml;\n",
              "        element.appendChild(docLink);\n",
              "      }\n",
              "    </script>\n",
              "  </div>\n",
              "\n",
              "    </div>\n",
              "  </div>\n"
            ],
            "application/vnd.google.colaboratory.intrinsic+json": {
              "type": "dataframe",
              "variable_name": "filtered_df",
              "summary": "{\n  \"name\": \"filtered_df\",\n  \"rows\": 1,\n  \"fields\": [\n    {\n      \"column\": \"Unnamed: 0\",\n      \"properties\": {\n        \"dtype\": \"number\",\n        \"std\": null,\n        \"min\": 48,\n        \"max\": 48,\n        \"num_unique_values\": 1,\n        \"samples\": [\n          48\n        ],\n        \"semantic_type\": \"\",\n        \"description\": \"\"\n      }\n    },\n    {\n      \"column\": \"standard_variable\",\n      \"properties\": {\n        \"dtype\": \"string\",\n        \"num_unique_values\": 1,\n        \"samples\": [\n          \"gas_mixer_n2_efficiency\"\n        ],\n        \"semantic_type\": \"\",\n        \"description\": \"\"\n      }\n    },\n    {\n      \"column\": \"possible_variables\",\n      \"properties\": {\n        \"dtype\": \"object\",\n        \"semantic_type\": \"\",\n        \"description\": \"\"\n      }\n    },\n    {\n      \"column\": \"variable_status\",\n      \"properties\": {\n        \"dtype\": \"string\",\n        \"num_unique_values\": 1,\n        \"samples\": [\n          \"EXISTING\"\n        ],\n        \"semantic_type\": \"\",\n        \"description\": \"\"\n      }\n    }\n  ]\n}"
            }
          },
          "metadata": {},
          "execution_count": 30
        }
      ]
    },
    {
      "cell_type": "code",
      "source": [
        "print(test_list,filtered_df)"
      ],
      "metadata": {
        "colab": {
          "base_uri": "https://localhost:8080/"
        },
        "id": "mVEhaw5gqw0i",
        "outputId": "d0e4c433-5e56-4d9f-a3ad-a90b09b29239"
      },
      "execution_count": 23,
      "outputs": [
        {
          "output_type": "stream",
          "name": "stdout",
          "text": [
            "['efficiency_gas_mixer_n2']     Unnamed: 0        standard_variable  \\\n",
            "48          48  gas_mixer_n2_efficiency   \n",
            "\n",
            "                                   possible_variables variable_status  \n",
            "48  [Efficiency Gas N2,efficiency_gas_mixer_n2, ga...        EXISTING  \n"
          ]
        }
      ]
    },
    {
      "cell_type": "code",
      "source": [
        "print(check_runs_with_variable_dict(perfusio_data_cols,variable_dict_v_2_20formatted))"
      ],
      "metadata": {
        "colab": {
          "base_uri": "https://localhost:8080/"
        },
        "id": "F7lGNXHg-6CC",
        "outputId": "1ef456c0-1b89-4e9f-fa60-4de7c5e06744"
      },
      "execution_count": 48,
      "outputs": [
        {
          "output_type": "stream",
          "name": "stdout",
          "text": [
            "Changing column time to control_time\n",
            "New column to be added on schema: brain_flow_target\n",
            "New column to be added on schema: raman_glucose_mg_dl_measured\n",
            "New column to be added on schema: mettler_ph_act\n",
            "Changing column efficiency_gas_mixer_o2 to gas_mixer_o2_efficiency\n",
            "New column to be added on schema: mettler_co2_dli\n",
            "Changing column efficiency_gas_mixer_co2 to gas_mixer_co2_efficiency\n",
            "Changing column glucose_pump_rate_automatic_setpoint to glucose_syringe_pump_volume_setpoint\n",
            "New column to be added on schema: pulse_generator_control_mode\n",
            "New column to be added on schema: mettler_ph_dli\n",
            "Changing column efficiency_main_pump to main_pump_efficiency\n",
            "New column to be added on schema: resistance_regulation_flag\n",
            "Changing column dialysis_regulation_flag to dialysis_autoregulation_flag\n",
            "Changing column syringe_pump_volume_setpoint to glucose_syringe_pump_volume_setpoint\n",
            "New column to be added on schema: mettler_o2_g_l\n",
            "New column to be added on schema: glucose_control_mode_volume_flag\n",
            "Removed column identified: timestamp\n",
            "New column to be added on schema: brain_pressure_range_calculated\n",
            "New column to be added on schema: pulse_generator_amp_flow_range_setpoint\n",
            "New column to be added on schema: mettler_ph_ttm\n",
            "New column to be added on schema: main_pump_oscillation_flag\n",
            "New column to be added on schema: gas_mixer_o2_maximum\n",
            "New column to be added on schema: organ_resistance_setpoint\n",
            "New column to be added on schema: mettler_co2_act\n",
            "New column to be added on schema: pulse_generator_amp_pressure_range_setpoint\n",
            "New column to be added on schema: resistance_line_setpoint\n",
            "New column to be added on schema: brain_flow_range_target\n",
            "New column to be added on schema: manometer_pressure\n",
            "New column to be added on schema: main_pump_oscillation_amplitude\n",
            "Changing column brain_resistance_calculated to brain_resistance\n",
            "New column to be added on schema: raman_uncertainty_95_measured\n",
            "Changing column glucose_syringe_pump_buzzer to glucose_syringe_pump_buzzer_control\n",
            "New column to be added on schema: brain_pressure_target\n",
            "New column to be added on schema: glucose_control_mode_auto_flag\n",
            "Changing column efficiency_gas_mixer_n2 to gas_mixer_n2_efficiency\n",
            "New column to be added on schema: update_controls_var_flag\n",
            "New column to be added on schema: mettler_co2_mv\n",
            "New column to be added on schema: mettler_co2_ttm\n",
            "New column to be added on schema: mettler_o2_dli\n",
            "New column to be added on schema: heat_exchanger_oscillation_amplitude\n",
            "Unidentified variable found: arduino_reset_relay_flag\n",
            "New column to be added on schema: mettler_ph_mv\n",
            "New column to be added on schema: mettler_o2_percent_air\n",
            "New column to be added on schema: brain_pressure_range_target\n",
            "New column to be added on schema: heat_exchanger_oscillation_flag\n",
            "New column to be added on schema: organ_resistance_regulation_flag\n",
            "Changing column glucose_pump_rate_manual_setpoint to glucose_syringe_pump_hour_setrate\n",
            "Unidentified variable found: dialysis_compensate_pump_setrate\n",
            "New column to be added on schema: brain_flow_range_calculated\n",
            "Changing column pulse_generator_pressure_upper_bound to pulse_generator_base_upper_bound\n",
            "New column to be added on schema: resistance_line_valve_position\n",
            "Changing column perfusion_time to perfusion_time_seconds\n",
            "None\n"
          ]
        }
      ]
    },
    {
      "cell_type": "code",
      "source": [
        "split_values = []\n",
        "def column_format(column_values):\n",
        "# Iterate over each string in column_values\n",
        "  for sublist in column_values:\n",
        "    # Convert each sublist to a string and remove the brackets and quotes\n",
        "    joined_string = str(sublist).strip(\"[]'\")\n",
        "    # Split the string by comma\n",
        "    split_value = joined_string.split(\",\")\n",
        "    # Append the split value to the list\n",
        "    split_values.append(split_value)\n",
        "\n",
        "# Flatten the list of lists\n",
        "  flattened_list = [item for sublist in split_values for item in sublist]\n",
        "\n",
        "  print(flattened_list)"
      ],
      "metadata": {
        "id": "yNLPnfTmitm8"
      },
      "execution_count": 41,
      "outputs": []
    },
    {
      "cell_type": "code",
      "source": [
        "variable_dict_v_2_20formatted = pd.read_csv(\"/content/variable_dict_v_2_formatted.csv\")\n"
      ],
      "metadata": {
        "id": "28TQCxNfm0Qy"
      },
      "execution_count": 50,
      "outputs": []
    }
  ]
}