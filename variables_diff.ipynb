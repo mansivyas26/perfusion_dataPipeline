{
  "nbformat": 4,
  "nbformat_minor": 0,
  "metadata": {
    "colab": {
      "provenance": [],
      "mount_file_id": "1gedzhMOMPhED2teXsKLF4-FVO3cqJYSB",
      "authorship_tag": "ABX9TyO+w7gA8vkWgJJd0RmPZF7O",
      "include_colab_link": true
    },
    "kernelspec": {
      "name": "python3",
      "display_name": "Python 3"
    },
    "language_info": {
      "name": "python"
    }
  },
  "cells": [
    {
      "cell_type": "markdown",
      "metadata": {
        "id": "view-in-github",
        "colab_type": "text"
      },
      "source": [
        "<a href=\"https://colab.research.google.com/github/mansivyas26/perfusion_dataPipeline/blob/main/variables_diff.ipynb\" target=\"_parent\"><img src=\"https://colab.research.google.com/assets/colab-badge.svg\" alt=\"Open In Colab\"/></a>"
      ]
    },
    {
      "cell_type": "code",
      "execution_count": 8,
      "metadata": {
        "id": "ACxMkMSV9O3M"
      },
      "outputs": [],
      "source": [
        "import pandas as pd\n",
        "import numpy as np\n",
        "import random\n",
        "import ast\n",
        "import warnings\n",
        "from pandas_gbq import to_gbq\n",
        "from google.cloud import storage\n",
        "from google.cloud import bigquery\n",
        "from io import StringIO\n",
        "\n",
        "\n",
        "import pickle\n",
        "\n",
        "warnings.filterwarnings('ignore')"
      ]
    },
    {
      "cell_type": "code",
      "source": [
        "!pip install upgrade pandas"
      ],
      "metadata": {
        "colab": {
          "base_uri": "https://localhost:8080/"
        },
        "id": "x2sJZbLwRTyu",
        "outputId": "7016b6e3-7daf-4b3f-ff4f-011adaddc980"
      },
      "execution_count": 5,
      "outputs": [
        {
          "output_type": "stream",
          "name": "stdout",
          "text": [
            "\u001b[31mERROR: Could not find a version that satisfies the requirement upgrade (from versions: none)\u001b[0m\u001b[31m\n",
            "\u001b[0m\u001b[31mERROR: No matching distribution found for upgrade\u001b[0m\u001b[31m\n",
            "\u001b[0m"
          ]
        }
      ]
    },
    {
      "cell_type": "code",
      "source": [
        "!pip install --upgrade google-cloud-storage\n"
      ],
      "metadata": {
        "id": "2xGz8BlYTrp6"
      },
      "execution_count": null,
      "outputs": []
    },
    {
      "cell_type": "code",
      "source": [
        "from google.cloud import storage\n",
        "import pandas as pd\n",
        "import pickle\n",
        "\n",
        "def download_pickle_from_gcs(bucket_name):\n",
        "    try:\n",
        "        # Initialize a client\n",
        "        key_path = '/content/drive/MyDrive/Pefusion_DataPipeline/platform-developement-dev-env-7a2997352c88.json'  # Replace with your service account key path\n",
        "        client = storage.Client.from_service_account_json(key_path)\n",
        "\n",
        "        # Get the bucket\n",
        "        bucket = client.get_bucket(bucket_name)\n",
        "\n",
        "        # Specify the folder name\n",
        "        folder_name = 'Steve/'\n",
        "\n",
        "        # List all blobs (files) in the specified folder\n",
        "        blobs = bucket.list_blobs(prefix=folder_name)\n",
        "\n",
        "        # Iterate over each blob in the specified folder\n",
        "        for blob in blobs:\n",
        "            # Check if the blob is a file, starts with 'BEXT...', and ends with 'all_data.pkl'\n",
        "            if blob.name.startswith(folder_name) and blob.name.startswith(folder_name + 'BEXT') and blob.name.endswith('all_data.pkl'):\n",
        "                # Download the file\n",
        "                content = blob.download_as_string()\n",
        "\n",
        "                # Load the pickle object from the downloaded content\n",
        "                pickle_object = pickle.loads(content)\n",
        "\n",
        "                # Convert the pickle object to a DataFrame\n",
        "                df = pd.DataFrame(pickle_object)\n",
        "\n",
        "                # Print the DataFrame\n",
        "                print(\"DataFrame:\")\n",
        "                #print(df)\n",
        "\n",
        "                # Print success message\n",
        "                print(\"Load success!!!\")\n",
        "\n",
        "                return df\n",
        "\n",
        "        # If no matching file is found\n",
        "        print(\"No file matching the criteria found in the specified folder.\")\n",
        "        return None\n",
        "\n",
        "    except Exception as e:\n",
        "        print(f\"Error: {e}\")\n",
        "        return None\n"
      ],
      "metadata": {
        "id": "0IbZIUlDO3hH"
      },
      "execution_count": 123,
      "outputs": []
    },
    {
      "cell_type": "code",
      "source": [
        "bucket_name = \"mark2_runs_bex_ds_dev\"\n",
        "file_name = \"all_data.pkl\"\n",
        "perfusion_individual_pickle_data = download_pickle_from_gcs(bucket_name)\n"
      ],
      "metadata": {
        "colab": {
          "base_uri": "https://localhost:8080/"
        },
        "id": "vdAfMaFnQTpS",
        "outputId": "e0bab215-1a21-4f09-a173-ac4795928cad"
      },
      "execution_count": 136,
      "outputs": [
        {
          "output_type": "stream",
          "name": "stdout",
          "text": [
            "DataFrame:\n",
            "Load success!!!\n"
          ]
        }
      ]
    },
    {
      "cell_type": "code",
      "source": [
        "\n",
        "from google.cloud import storage\n",
        "import pandas as pd\n",
        "from io import StringIO\n",
        "\n",
        "def download_csv_from_gcs(bucket_name, file_name):\n",
        "    try:\n",
        "        # Initialize a client\n",
        "        key_path = '/content/drive/MyDrive/Pefusion_DataPipeline/platform-developement-dev-env-7a2997352c88.json'  # Replace with your service account key path\n",
        "        client = storage.Client.from_service_account_json(key_path)\n",
        "\n",
        "        # Get the bucket\n",
        "        bucket = client.get_bucket(bucket_name)\n",
        "\n",
        "        # Specify the CSV file path in the bucket\n",
        "        file_path = f\"{file_name}.csv\"  # Adjust the file extension if needed\n",
        "\n",
        "        # Get the blob (file) from the bucket\n",
        "        blob = bucket.blob(file_path)\n",
        "\n",
        "        # Download the file content as bytes\n",
        "        content_bytes = blob.download_as_bytes()\n",
        "\n",
        "        # Decode the bytes content to string\n",
        "        content_str = content_bytes.decode('utf-8')\n",
        "\n",
        "        # Convert the CSV content to a DataFrame\n",
        "        df = pd.read_csv(StringIO(content_str))\n",
        "\n",
        "        # Print the DataFrame\n",
        "        print(\"DataFrame:\")\n",
        "        #print(df)\n",
        "\n",
        "        # Print success message\n",
        "        print(\"Load success!!!\")\n",
        "\n",
        "        return df\n",
        "\n",
        "    except Exception as e:\n",
        "        print(f\"Error: {e}\")\n",
        "        return None\n"
      ],
      "metadata": {
        "id": "Bza90pwLOipy"
      },
      "execution_count": 125,
      "outputs": []
    },
    {
      "cell_type": "code",
      "source": [],
      "metadata": {
        "id": "4kHT_RRkR6wt"
      },
      "execution_count": null,
      "outputs": []
    },
    {
      "cell_type": "code",
      "source": [
        "bucket_name = \"perufsion_data_variable_dictionary\"\n",
        "file_name = \"variable_dict_2802 - test_262.02 - test\"\n",
        "variable_dict = download_csv_from_gcs(bucket_name,file_name)\n",
        "variable_dict['possible_variables'] = variable_dict['possible_variables'].apply(ast.literal_eval)"
      ],
      "metadata": {
        "id": "DFYUo-YwQOVv",
        "colab": {
          "base_uri": "https://localhost:8080/"
        },
        "outputId": "554c95ea-e6ae-4cb3-a002-28a8caffa5df"
      },
      "execution_count": 279,
      "outputs": [
        {
          "output_type": "stream",
          "name": "stdout",
          "text": [
            "DataFrame:\n",
            "Load success!!!\n"
          ]
        }
      ]
    },
    {
      "cell_type": "code",
      "source": [
        "variable_dict.loc[variable_dict['standard_variable'] == 'syringe_pump_volume_setpoint', 'variable_status'] = 'EXISTING'"
      ],
      "metadata": {
        "id": "DA011aZONswE"
      },
      "execution_count": 293,
      "outputs": []
    },
    {
      "cell_type": "code",
      "source": [
        "\n",
        "from google.cloud import bigquery\n",
        "import pandas as pd\n",
        "\n",
        "def read_bq_table_to_df(project_id, dataset_id, table_id,key_path):\n",
        "    try:\n",
        "        # Initialize a BigQuery client\n",
        "        client = bigquery.Client.from_service_account_json(key_path, project=project_id)\n",
        "        # Specify the reference to the table\n",
        "        table_ref = client.dataset(dataset_id).table(table_id)\n",
        "\n",
        "        # Fetch the table data\n",
        "        table = client.get_table(table_ref)\n",
        "\n",
        "        # Execute a query to get the data\n",
        "        query_job = client.query(f\"SELECT * FROM `{project_id}.{dataset_id}.{table_id}` LIMIT 100\")\n",
        "\n",
        "        # Fetch the results as a Pandas DataFrame\n",
        "        df = query_job.to_dataframe()\n",
        "\n",
        "        # Print the DataFrame\n",
        "        print(\"DataFrame:\")\n",
        "       # print(df)\n",
        "\n",
        "        # Print success message\n",
        "        print(\"Load success!!!\")\n",
        "\n",
        "        return df\n",
        "\n",
        "    except Exception as e:\n",
        "        print(f\"Error: {e}\")\n",
        "        return None\n"
      ],
      "metadata": {
        "id": "bsosNGVsSqJG"
      },
      "execution_count": 127,
      "outputs": []
    },
    {
      "cell_type": "code",
      "source": [
        "project_id = 'platform-developement-dev-env'\n",
        "dataset_id = 'combine_runs'\n",
        "table_id = 'combined_runs'\n",
        "key_path = '/content/drive/MyDrive/Pefusion_DataPipeline/platform-developement-dev-env-7a2997352c88.json'\n",
        "\n",
        "schema = read_bq_table_to_df(project_id, dataset_id, table_id,key_path)\n"
      ],
      "metadata": {
        "colab": {
          "base_uri": "https://localhost:8080/"
        },
        "id": "FM9FiEGCS0mo",
        "outputId": "2b0e7eb7-4912-47c4-a359-0af09c744fa5"
      },
      "execution_count": 283,
      "outputs": [
        {
          "output_type": "stream",
          "name": "stdout",
          "text": [
            "DataFrame:\n",
            "Load success!!!\n"
          ]
        }
      ]
    },
    {
      "cell_type": "code",
      "source": [
        "perfusion_data_subset = perfusion_individual_pickle_data.head(3)"
      ],
      "metadata": {
        "id": "oefOecUbFCkU"
      },
      "execution_count": 284,
      "outputs": []
    },
    {
      "cell_type": "code",
      "source": [
        "#check for perfusion ID\n",
        "import pandas as pd\n",
        "\n",
        "def check_columns(df):\n",
        "    required_columns = ['perfusion_id', 'perfusion_date', 'device_ID']\n",
        "\n",
        "    # Check if required columns are present\n",
        "    missing_columns = [col for col in required_columns if col not in df.columns]\n",
        "    if missing_columns:\n",
        "        return f\"Missing columns: {', '.join(missing_columns)}\"\n",
        "\n",
        "    # Check if required columns have non-empty, non-None, non-NaN values\n",
        "    missing_values_indices = df[df[required_columns].isnull().any(axis=1)].index.tolist()\n",
        "\n",
        "    if missing_values_indices:\n",
        "        return f\"Missing values in rows: {', '.join(map(str, missing_values_indices))}\"\n",
        "\n",
        "    return \"All conditions satisfied\"\n",
        "\n",
        "# Example usage:\n",
        "\n",
        "\n",
        "result = check_columns(perfusion_data_subset)\n",
        "print(result)\n"
      ],
      "metadata": {
        "colab": {
          "base_uri": "https://localhost:8080/"
        },
        "id": "3njz_XIVO-65",
        "outputId": "4f15d8ad-010a-49ff-8a72-544e8f624689"
      },
      "execution_count": 285,
      "outputs": [
        {
          "output_type": "stream",
          "name": "stdout",
          "text": [
            "Missing columns: perfusion_id, perfusion_date, device_ID\n"
          ]
        }
      ]
    },
    {
      "cell_type": "code",
      "source": [
        "#check scehma with variable dictionary and renames the column if needed to standard_variable\n",
        "def check_schema(schema,variable_dict):\n",
        "  columns = schema.columns.tolist()\n",
        "  for column in columns:\n",
        "\n",
        "        for idx, row in variable_dict.iterrows():\n",
        "            if column in row['possible_variables'] and column != row['standard_variable']:\n",
        "                print(\"old names\",column,row['possible_variables'])\n",
        "                schema.rename(columns={column: row['standard_variable']}, inplace=True)\n",
        "                print(\"columns that were renamed\",column)\n"
      ],
      "metadata": {
        "id": "jYXEx7oGnlK-"
      },
      "execution_count": 286,
      "outputs": []
    },
    {
      "cell_type": "code",
      "source": [
        "#function call\n",
        "check_schema(schema,variable_dict)"
      ],
      "metadata": {
        "colab": {
          "base_uri": "https://localhost:8080/"
        },
        "id": "dcLRQwGiqwhH",
        "outputId": "5a5880b5-d920-4caf-e3b1-6a248502ed5d"
      },
      "execution_count": 287,
      "outputs": [
        {
          "output_type": "stream",
          "name": "stdout",
          "text": [
            "old names glucose_control_mode ['glucose_control_mode_auto_flag', 'glucose_control_mode', 'auto_glucose', 'Auto Glucose', 'Auto_Glucose']\n",
            "columns that were renamed glucose_control_mode\n",
            "old names syringe_pump_manual_setrate ['glucose_pump_rate_automatic_setpoint', 'glucose_syringe_pump_hour_setrate', 'syringe_pump_manual_setrate', 'glucose_pump_rate_manual_setpoint', 'glucose_pump_rate_setpoint', 'glucose_pump_rate', 'syringe_pump_rate', 'glucose_pump_rate_setpoint']\n",
            "columns that were renamed syringe_pump_manual_setrate\n",
            "old names time ['time', 'time(in hrs)', 'time_hrs']\n",
            "columns that were renamed time\n",
            "old names probe_ph_mv_measured ['probe_ph_mv_measured', 'pH_mV', 'mV', 'mettler_ph_mv']\n",
            "columns that were renamed probe_ph_mv_measured\n",
            "old names glucose_pump_rate_setpoint ['glucose_pump_rate_automatic_setpoint', 'glucose_syringe_pump_hour_setrate', 'syringe_pump_manual_setrate', 'glucose_pump_rate_manual_setpoint', 'glucose_pump_rate_setpoint', 'glucose_pump_rate', 'syringe_pump_rate', 'glucose_pump_rate_setpoint']\n",
            "columns that were renamed glucose_pump_rate_setpoint\n"
          ]
        }
      ]
    },
    {
      "cell_type": "code",
      "source": [
        "\n",
        "def check_columns(df):\n",
        "  val = 'None'\n",
        "  if val in df.columns:\n",
        "      # Drop the column named 'None'\n",
        "      df = df.drop(columns=[val])\n"
      ],
      "metadata": {
        "id": "1iwiiTtxx7eq"
      },
      "execution_count": 58,
      "outputs": []
    },
    {
      "cell_type": "code",
      "source": [
        "check_columns(perfusion_data_subset)"
      ],
      "metadata": {
        "id": "setYf4U3yDaI"
      },
      "execution_count": 59,
      "outputs": []
    },
    {
      "cell_type": "code",
      "source": [
        "check_columns(schema)"
      ],
      "metadata": {
        "id": "MtQYCcK2yG7m"
      },
      "execution_count": 60,
      "outputs": []
    },
    {
      "cell_type": "code",
      "source": [
        "temporary_none = ['dialysis_compensate_scale_weight','dialysis_flux_valve_position','viscometer_temperature','dialysis_post_pressure','dialysis_compensate_pump_rate','dialysis_compensate_scale_flux','dialysis_pre_pressure','dialysis_pre_pressure_setpoint','dialysis_pressure_valve_position','dialysis_waste_scale_flux','dialysis_waste_scale_weight']"
      ],
      "metadata": {
        "id": "G7uVDNs-LpH1"
      },
      "execution_count": 288,
      "outputs": []
    },
    {
      "cell_type": "code",
      "source": [
        "for val in temporary_none:\n",
        "\n",
        "        # Add a new column to the pkl DataFrame with the value initialized as None\n",
        "  perfusion_data_subset[val] = \"None\""
      ],
      "metadata": {
        "id": "7S8SdgI9L46Z"
      },
      "execution_count": 289,
      "outputs": []
    },
    {
      "cell_type": "code",
      "source": [
        "#compare .pkl file , variable dicitionary and Schema\n",
        "\n",
        "def check_runs_with_variable_dict_new(pkl_df, variable_dict, schema_subset):\n",
        "\n",
        "    removed_columns = []  # List to keep track of REMOVED columns\n",
        "    list_of_files_ignored_in_pkl = ['timestamp','glucose_syringe_pump_buzzer']\n",
        "    list_of_files_ignored_in_schema = ['resistance_qc_solenoid_flag','perfusion_date','perfusion_id','control_time','glucose_syringe_pump_dispensed_control', 'glucose_syringe_pump_buzzer_control']\n",
        "\n",
        "   # temporary_none = ['dialysis_compensate_scale_weight','dialysis_flux_valve_position','viscometer_temperature','dialysis_post_pressure','dialysis_compensate_pump_rate','dialysis_compensate_scale_flux','dialysis_pre_pressure','dialysis_pre_pressure_setpoint','dialysis_pressure_valve_position','dialysis_waste_scale_flux','dialysis_waste_scale_weight']\n",
        "    #list of variables to be added in schema\n",
        "    for idx, row in variable_dict.iterrows():\n",
        "            if row['standard_variable'] in list_of_files_ignored_in_schema:\n",
        "                  pkl_df[row['standard_variable']] = \"to be added\"\n",
        "    columns = pkl_df.columns.tolist()\n",
        "    for column in columns:\n",
        "        match_found = False\n",
        "        for idx, row in variable_dict.iterrows():\n",
        "           if column in row['possible_variables']:\n",
        "                match_found = True\n",
        "                if row['variable_status'] == \"EXISTING\" and column != row['standard_variable']:\n",
        "                    pkl_df.rename(columns={column: row['standard_variable']}, inplace=True)\n",
        "                    if column in schema_subset.columns:\n",
        "                        schema_subset.rename(columns={column: row['standard_variable']}, inplace=True)\n",
        "                elif row['variable_status'] == \"NEW\":\n",
        "\n",
        "                    #add a column with name row['standard_variable'] and  value = None\n",
        "                    variable_dict.loc[idx,'variable_status'] = \"EXISTING\"\n",
        "                  #rename to standard variable\n",
        "                    if row['standard_variable'] not in schema_subset.columns:\n",
        "                        schema_subset[row['standard_variable']] = None\n",
        "\n",
        "                elif row['variable_status'] == \"REMOVED\":\n",
        "                   # print(f\"Removed column identified: {column}\")\n",
        "                    removed_columns.append(column)\n",
        "                    for c in removed_columns:\n",
        "                      print(removed_columns)\n",
        "                      pkl_df[c] = None\n",
        "\n",
        "\n",
        "\n",
        "\n",
        "    cols_to_drop = list(set(pkl_df.columns).intersection(set(list_of_files_ignored_in_pkl)))\n",
        "    print(cols_to_drop)\n",
        "    pkl_df = pkl_df.drop(cols_to_drop,inplace=True,axis=1)\n",
        "\n",
        "\n",
        "\n",
        "    print(\"printed\")\n",
        "\n",
        "\n",
        "\n",
        "\n",
        "\n",
        "\n",
        "\n"
      ],
      "metadata": {
        "id": "O9DGDd8fFWZD"
      },
      "execution_count": 294,
      "outputs": []
    },
    {
      "cell_type": "code",
      "source": [
        "def check_columns_match(df1, df2):\n",
        "    columns_df1 = set(df1.columns)\n",
        "    columns_df2 = set(df2.columns)\n",
        "\n",
        "    if columns_df1 != columns_df2:\n",
        "        columns_only_in_df1 = columns_df1 - columns_df2\n",
        "        columns_only_in_df2 = columns_df2 - columns_df1\n",
        "\n",
        "        print(\"Columns only in .pkl file:\", columns_only_in_df1)\n",
        "        print(\"Columns only in schema:\", columns_only_in_df2)\n",
        "        print(len(columns_only_in_df2),\"only_schema\")\n",
        "        print(len(columns_only_in_df1),\"only_pkl\")\n",
        "\n",
        "        return False\n",
        "    else:\n",
        "        print(len(df1.columns),\"pkl\")\n",
        "        print(len(df2.columns),\"schema\")\n",
        "        print(\"Columns match between the two DataFrames.\")\n",
        "        return True\n",
        "\n",
        "def append_df_row_wise(pkl_df, schema_df):\n",
        "    #pkl_df = pkl_df.drop(columns=['None'],inplace=True)\n",
        "\n",
        "    # Check if columns match\n",
        "    if not check_columns_match(pkl_df, schema_df):\n",
        "      return None\n",
        "    else:\n",
        "      schema_df = schema_df[sorted(schema_df.columns)]\n",
        "      pkl_df = pkl_df[sorted(pkl_df.columns)]\n",
        "\n",
        "\n",
        "\n",
        "      #add rows only if perfusion_id looks like BEXT\n",
        "      combined_df = schema_df.append(pkl_df,ignore_index=True)\n",
        "\n",
        "      #combined_df.to_csv(\"/content/drive/MyDrive/Pefusion_DataPipeline/combined.csv\")\n",
        "     # print(combined_df)\n",
        "      return combined_df\n",
        "\n"
      ],
      "metadata": {
        "id": "2cl-bKVl7Jto"
      },
      "execution_count": 303,
      "outputs": []
    },
    {
      "cell_type": "code",
      "source": [
        "#create individual table for dryrun - filter perfusion dataset convert bq table"
      ],
      "metadata": {
        "id": "tbo8AbjLhTgO"
      },
      "execution_count": null,
      "outputs": []
    },
    {
      "cell_type": "code",
      "source": [
        "#create indivudual table for human runs - filter perfusion dataset convert bq table"
      ],
      "metadata": {
        "id": "pvEYQP21hXKU"
      },
      "execution_count": null,
      "outputs": []
    },
    {
      "cell_type": "code",
      "source": [
        "combined_df = append_df_row_wise(perfusion_data_subset,schema)"
      ],
      "metadata": {
        "colab": {
          "base_uri": "https://localhost:8080/"
        },
        "id": "is6yS-LAxxK0",
        "outputId": "f98fcda2-f194-402c-8fb4-55d0a5e240dd"
      },
      "execution_count": 304,
      "outputs": [
        {
          "output_type": "stream",
          "name": "stdout",
          "text": [
            "133 pkl\n",
            "133 schema\n",
            "Columns match between the two DataFrames.\n"
          ]
        }
      ]
    },
    {
      "cell_type": "code",
      "source": [
        "combined_df['B_dialysis_loop_on_off']"
      ],
      "metadata": {
        "colab": {
          "base_uri": "https://localhost:8080/",
          "height": 408
        },
        "id": "qpmytlMzXaA5",
        "outputId": "a33049f0-3d32-4038-dafd-9e7671fe28b3"
      },
      "execution_count": 305,
      "outputs": [
        {
          "output_type": "error",
          "ename": "KeyError",
          "evalue": "'B_dialysis_loop_on_off'",
          "traceback": [
            "\u001b[0;31m---------------------------------------------------------------------------\u001b[0m",
            "\u001b[0;31mKeyError\u001b[0m                                  Traceback (most recent call last)",
            "\u001b[0;32m/usr/local/lib/python3.10/dist-packages/pandas/core/indexes/base.py\u001b[0m in \u001b[0;36mget_loc\u001b[0;34m(self, key, method, tolerance)\u001b[0m\n\u001b[1;32m   3801\u001b[0m             \u001b[0;32mtry\u001b[0m\u001b[0;34m:\u001b[0m\u001b[0;34m\u001b[0m\u001b[0;34m\u001b[0m\u001b[0m\n\u001b[0;32m-> 3802\u001b[0;31m                 \u001b[0;32mreturn\u001b[0m \u001b[0mself\u001b[0m\u001b[0;34m.\u001b[0m\u001b[0m_engine\u001b[0m\u001b[0;34m.\u001b[0m\u001b[0mget_loc\u001b[0m\u001b[0;34m(\u001b[0m\u001b[0mcasted_key\u001b[0m\u001b[0;34m)\u001b[0m\u001b[0;34m\u001b[0m\u001b[0;34m\u001b[0m\u001b[0m\n\u001b[0m\u001b[1;32m   3803\u001b[0m             \u001b[0;32mexcept\u001b[0m \u001b[0mKeyError\u001b[0m \u001b[0;32mas\u001b[0m \u001b[0merr\u001b[0m\u001b[0;34m:\u001b[0m\u001b[0;34m\u001b[0m\u001b[0;34m\u001b[0m\u001b[0m\n",
            "\u001b[0;32m/usr/local/lib/python3.10/dist-packages/pandas/_libs/index.pyx\u001b[0m in \u001b[0;36mpandas._libs.index.IndexEngine.get_loc\u001b[0;34m()\u001b[0m\n",
            "\u001b[0;32m/usr/local/lib/python3.10/dist-packages/pandas/_libs/index.pyx\u001b[0m in \u001b[0;36mpandas._libs.index.IndexEngine.get_loc\u001b[0;34m()\u001b[0m\n",
            "\u001b[0;32m/usr/local/lib/python3.10/dist-packages/pandas/_libs/index.pyx\u001b[0m in \u001b[0;36mpandas._libs.index.IndexEngine._get_loc_duplicates\u001b[0;34m()\u001b[0m\n",
            "\u001b[0;31mKeyError\u001b[0m: 'B_dialysis_loop_on_off'",
            "\nThe above exception was the direct cause of the following exception:\n",
            "\u001b[0;31mKeyError\u001b[0m                                  Traceback (most recent call last)",
            "\u001b[0;32m<ipython-input-305-0e8f40371293>\u001b[0m in \u001b[0;36m<cell line: 1>\u001b[0;34m()\u001b[0m\n\u001b[0;32m----> 1\u001b[0;31m \u001b[0mcombined_df\u001b[0m\u001b[0;34m[\u001b[0m\u001b[0;34m'B_dialysis_loop_on_off'\u001b[0m\u001b[0;34m]\u001b[0m\u001b[0;34m\u001b[0m\u001b[0;34m\u001b[0m\u001b[0m\n\u001b[0m",
            "\u001b[0;32m/usr/local/lib/python3.10/dist-packages/pandas/core/frame.py\u001b[0m in \u001b[0;36m__getitem__\u001b[0;34m(self, key)\u001b[0m\n\u001b[1;32m   3805\u001b[0m             \u001b[0;32mif\u001b[0m \u001b[0mself\u001b[0m\u001b[0;34m.\u001b[0m\u001b[0mcolumns\u001b[0m\u001b[0;34m.\u001b[0m\u001b[0mnlevels\u001b[0m \u001b[0;34m>\u001b[0m \u001b[0;36m1\u001b[0m\u001b[0;34m:\u001b[0m\u001b[0;34m\u001b[0m\u001b[0;34m\u001b[0m\u001b[0m\n\u001b[1;32m   3806\u001b[0m                 \u001b[0;32mreturn\u001b[0m \u001b[0mself\u001b[0m\u001b[0;34m.\u001b[0m\u001b[0m_getitem_multilevel\u001b[0m\u001b[0;34m(\u001b[0m\u001b[0mkey\u001b[0m\u001b[0;34m)\u001b[0m\u001b[0;34m\u001b[0m\u001b[0;34m\u001b[0m\u001b[0m\n\u001b[0;32m-> 3807\u001b[0;31m             \u001b[0mindexer\u001b[0m \u001b[0;34m=\u001b[0m \u001b[0mself\u001b[0m\u001b[0;34m.\u001b[0m\u001b[0mcolumns\u001b[0m\u001b[0;34m.\u001b[0m\u001b[0mget_loc\u001b[0m\u001b[0;34m(\u001b[0m\u001b[0mkey\u001b[0m\u001b[0;34m)\u001b[0m\u001b[0;34m\u001b[0m\u001b[0;34m\u001b[0m\u001b[0m\n\u001b[0m\u001b[1;32m   3808\u001b[0m             \u001b[0;32mif\u001b[0m \u001b[0mis_integer\u001b[0m\u001b[0;34m(\u001b[0m\u001b[0mindexer\u001b[0m\u001b[0;34m)\u001b[0m\u001b[0;34m:\u001b[0m\u001b[0;34m\u001b[0m\u001b[0;34m\u001b[0m\u001b[0m\n\u001b[1;32m   3809\u001b[0m                 \u001b[0mindexer\u001b[0m \u001b[0;34m=\u001b[0m \u001b[0;34m[\u001b[0m\u001b[0mindexer\u001b[0m\u001b[0;34m]\u001b[0m\u001b[0;34m\u001b[0m\u001b[0;34m\u001b[0m\u001b[0m\n",
            "\u001b[0;32m/usr/local/lib/python3.10/dist-packages/pandas/core/indexes/base.py\u001b[0m in \u001b[0;36mget_loc\u001b[0;34m(self, key, method, tolerance)\u001b[0m\n\u001b[1;32m   3802\u001b[0m                 \u001b[0;32mreturn\u001b[0m \u001b[0mself\u001b[0m\u001b[0;34m.\u001b[0m\u001b[0m_engine\u001b[0m\u001b[0;34m.\u001b[0m\u001b[0mget_loc\u001b[0m\u001b[0;34m(\u001b[0m\u001b[0mcasted_key\u001b[0m\u001b[0;34m)\u001b[0m\u001b[0;34m\u001b[0m\u001b[0;34m\u001b[0m\u001b[0m\n\u001b[1;32m   3803\u001b[0m             \u001b[0;32mexcept\u001b[0m \u001b[0mKeyError\u001b[0m \u001b[0;32mas\u001b[0m \u001b[0merr\u001b[0m\u001b[0;34m:\u001b[0m\u001b[0;34m\u001b[0m\u001b[0;34m\u001b[0m\u001b[0m\n\u001b[0;32m-> 3804\u001b[0;31m                 \u001b[0;32mraise\u001b[0m \u001b[0mKeyError\u001b[0m\u001b[0;34m(\u001b[0m\u001b[0mkey\u001b[0m\u001b[0;34m)\u001b[0m \u001b[0;32mfrom\u001b[0m \u001b[0merr\u001b[0m\u001b[0;34m\u001b[0m\u001b[0;34m\u001b[0m\u001b[0m\n\u001b[0m\u001b[1;32m   3805\u001b[0m             \u001b[0;32mexcept\u001b[0m \u001b[0mTypeError\u001b[0m\u001b[0;34m:\u001b[0m\u001b[0;34m\u001b[0m\u001b[0;34m\u001b[0m\u001b[0m\n\u001b[1;32m   3806\u001b[0m                 \u001b[0;31m# If we have a listlike key, _check_indexing_error will raise\u001b[0m\u001b[0;34m\u001b[0m\u001b[0;34m\u001b[0m\u001b[0m\n",
            "\u001b[0;31mKeyError\u001b[0m: 'B_dialysis_loop_on_off'"
          ]
        }
      ]
    },
    {
      "cell_type": "code",
      "source": [
        "print(check_runs_with_variable_dict_new(perfusion_data_subset,variable_dict,schema))"
      ],
      "metadata": {
        "colab": {
          "base_uri": "https://localhost:8080/"
        },
        "id": "bBcdqz3TWnd4",
        "outputId": "979f0060-486b-4a12-c581-01309804bf12"
      },
      "execution_count": 295,
      "outputs": [
        {
          "output_type": "stream",
          "name": "stdout",
          "text": [
            "['control_time']\n",
            "['control_time', 'glucose_syringe_pump_buzzer_control']\n",
            "['control_time', 'glucose_syringe_pump_buzzer_control']\n",
            "[]\n",
            "printed\n",
            "None\n"
          ]
        }
      ]
    },
    {
      "cell_type": "code",
      "source": [],
      "metadata": {
        "id": "z-r7p0cwyZPE"
      },
      "execution_count": null,
      "outputs": []
    },
    {
      "cell_type": "code",
      "source": [
        "list1 = ['glucose_syringe_pump_volume_setpoint', 'syringe_pump_volume_setpoint', 'glucose_pump_rate_automatic_setpoint']\n",
        "list2 = schema.columns.to_list()\n",
        "list3 = perfusion_data_subset.columns.to_list()"
      ],
      "metadata": {
        "id": "G6plQhq_E5NE"
      },
      "execution_count": 297,
      "outputs": []
    },
    {
      "cell_type": "code",
      "source": [
        "def find_matching_values(list1, list2):\n",
        "    return list(set(list1) & set(list2))"
      ],
      "metadata": {
        "id": "0PHBtvzuFO1X"
      },
      "execution_count": 298,
      "outputs": []
    },
    {
      "cell_type": "code",
      "source": [
        "len(find_matching_values(list2,list3))\n",
        "#find_matching_values(glucose_syringe_pump_volume_setpoint,glucose_syringe_pump_hour_setrate)"
      ],
      "metadata": {
        "colab": {
          "base_uri": "https://localhost:8080/"
        },
        "id": "_sJfz9p4FP3q",
        "outputId": "91dd8ef4-60f2-4af4-8c91-26b9fb0c32c4"
      },
      "execution_count": 300,
      "outputs": [
        {
          "output_type": "execute_result",
          "data": {
            "text/plain": [
              "132"
            ]
          },
          "metadata": {},
          "execution_count": 300
        }
      ]
    },
    {
      "cell_type": "code",
      "source": [
        "from google.cloud import bigquery\n",
        "from google.cloud.exceptions import NotFound\n",
        "\n",
        "\n",
        "def create_table_and_load_df(project_id, dataset_id, table_id, df, key_path):\n",
        "    # Initialize BigQuery client with service account key\n",
        "    client = bigquery.Client.from_service_account_json(key_path, project=project_id)\n",
        "    dataset_ref = client.dataset(dataset_id)\n",
        "\n",
        "    # Create dataset if it doesn't exist\n",
        "    dataset = bigquery.Dataset(dataset_ref)\n",
        "    if not client.get_dataset(dataset_ref, retry=None):\n",
        "        dataset = client.create_dataset(dataset)\n",
        "\n",
        "    table_ref = dataset_ref.table(table_id)\n",
        "\n",
        "    # Define the schema based on the DataFrame data types\n",
        "    schema = []\n",
        "    for column, dtype in df.dtypes.items():\n",
        "        if dtype == 'int64':\n",
        "            schema.append(bigquery.SchemaField(column, 'INTEGER'))\n",
        "        elif dtype == 'float64':\n",
        "            schema.append(bigquery.SchemaField(column, 'FLOAT64'))\n",
        "        elif dtype == 'object':\n",
        "            schema.append(bigquery.SchemaField(column, 'STRING'))\n",
        "        # Add more conditions for other data types as needed\n",
        "\n",
        "    # Create the table with the specified schema\n",
        "    table = bigquery.Table(table_ref, schema=schema)\n",
        "    table = client.create_table(table)\n",
        "\n",
        "    # Load the DataFrame into the table\n",
        "    job_config = bigquery.LoadJobConfig(schema=schema)\n",
        "    client.load_table_from_dataframe(df, table_ref, job_config=job_config).result()\n",
        "\n",
        "    print(f'Data loaded into BigQuery table {project_id}.{dataset_id}.{table_id}.')\n"
      ],
      "metadata": {
        "id": "luMz91BjHYtI"
      },
      "execution_count": 65,
      "outputs": []
    },
    {
      "cell_type": "code",
      "source": [
        "project_id = 'platform-developement-dev-env'\n",
        "dataset_id = 'dataConsistency_test'\n",
        "table_id = 'BEXT84_updated_test'\n",
        "key_path = \"/content/drive/MyDrive/Pefusion_DataPipeline/platform-developement-dev-env-7a2997352c88.json\"\n",
        "\n",
        "# Call the function to create the table (if it doesn't exist) and load the DataFrame\n",
        "create_table_and_load_df(project_id, dataset_id, table_id, perfusion_data_subset_copy,key_path)"
      ],
      "metadata": {
        "colab": {
          "base_uri": "https://localhost:8080/"
        },
        "id": "7YAj-RccSerk",
        "outputId": "ce47063b-b238-4f3d-f13e-81561578f039"
      },
      "execution_count": 68,
      "outputs": [
        {
          "output_type": "stream",
          "name": "stdout",
          "text": [
            "Data loaded into BigQuery table platform-developement-dev-env.dataConsistency_test.BEXT84_updated_test.\n"
          ]
        }
      ]
    },
    {
      "cell_type": "markdown",
      "source": [],
      "metadata": {
        "id": "OoFRe9F-SNZB"
      }
    },
    {
      "cell_type": "code",
      "source": [
        "from collections import Counter\n",
        "\n",
        "my_list = schema.columns.to_list()  # Example list\n",
        "\n",
        "# Count occurrences of each element\n",
        "counts = Counter(my_list)\n",
        "\n",
        "# Find duplicate values\n",
        "duplicates = [item for item, count in counts.items() if count > 1]\n",
        "\n",
        "print(\"Duplicate values:\", duplicates)"
      ],
      "metadata": {
        "colab": {
          "base_uri": "https://localhost:8080/"
        },
        "id": "F_Fwgk05wGqm",
        "outputId": "8f2b16a9-625d-47c0-9cd7-0e99a8bf568e"
      },
      "execution_count": 206,
      "outputs": [
        {
          "output_type": "stream",
          "name": "stdout",
          "text": [
            "Duplicate values: ['glucose_syringe_pump_hour_setrate']\n"
          ]
        }
      ]
    },
    {
      "cell_type": "code",
      "source": [
        "schema['glucose_control_mode_auto_flag']"
      ],
      "metadata": {
        "colab": {
          "base_uri": "https://localhost:8080/"
        },
        "id": "cLuTsT53M_i3",
        "outputId": "67bf60ef-6d44-4dd2-f7dd-a2c30cbefe2f"
      },
      "execution_count": 205,
      "outputs": [
        {
          "output_type": "execute_result",
          "data": {
            "text/plain": [
              "0     None\n",
              "1     None\n",
              "2     None\n",
              "3     None\n",
              "4     None\n",
              "      ... \n",
              "95    None\n",
              "96    None\n",
              "97    None\n",
              "98    None\n",
              "99    None\n",
              "Name: glucose_control_mode_auto_flag, Length: 100, dtype: object"
            ]
          },
          "metadata": {},
          "execution_count": 205
        }
      ]
    },
    {
      "cell_type": "code",
      "source": [
        "perfusion_data_subset_columns = perfusion_data_subset.columns.to_list()\n",
        "check_list_probe_o2_temp = ['probe_o2_temperature', 'Mettler_O2_Temp', 'pO2 temperature', 'Mettler O2 Temp']\n",
        "print(perfusion_data_subset_columns)\n",
        "val = \"probe_o2_temperature\"\n",
        "if val in perfusion_data_subset_columns:\n",
        "  print(\"val foud \",val)\n",
        "else:\n",
        "  print(\"not found\")\n"
      ],
      "metadata": {
        "colab": {
          "base_uri": "https://localhost:8080/"
        },
        "id": "mW-vLbbbtpOR",
        "outputId": "563cc158-2837-49c9-854d-52f8548a5a6f"
      },
      "execution_count": 101,
      "outputs": [
        {
          "output_type": "stream",
          "name": "stdout",
          "text": [
            "['time', 'pulse_generator_base_lower_bound', 'raman_uncertainty_95_measured', 'brain_flow_measured', 'mettler_o2_percent_air', 'main_pump_rate_setpoint', 'glucose_syringe_diameter', 'glucose_pump_rate_automatic_setpoint', 'mettler_o2_g_l', 'update_controls_var_flag', 'glucose_syringe_pump_volume_dispensed_measured', 'dialysis_compensate_pump_setrate', 'dialysis_pre_pressure_setpoint', 'gas_mixer_flow_o2_measured', 'syringe_pump_volume_setpoint', 'heat_exchanger_temperature_setpoint', 'efficiency_gas_mixer_n2', 'glucose_syringe_pump_buzzer', 'brain_pressure_target', 'pulse_generator_amp_pressure_range_setpoint', 'brain_flow_range_calculated', 'brain_pressure_range_target', 'mettler_ph_mv', 'gas_mixer_co2_setpoint', 'post_qpv_pressure', 'glucose_control_mode_auto_flag', 'mettler_co2_dli', 'gas_mixer_o2_maximum', 'gas_mixer_flow_measured', 'gas_mixer_percent_o2_measured', 'perfusion_time', 'efficiency_main_pump', 'main_pump_oscillation_amplitude', 'raman_glucose_mg_dl_measured', 'brain_scale_flow', 'resistance_line_valve_position', 'mettler_co2_act', 'resistance_line_setpoint', 'brain_flow_range_target', 'heat_exchanger_temperature_measured', 'dialysis_flux_rate_setpoint', 'resistance_regulation_flag', 'dialysis_main_pump_rate', 'brain_resistance_calculated', 'heat_exchanger_ramp_flag', 'dialysis_flux_valve_setpoint', 'gas_mixer_status_flag', 'auto_sampler_flag', 'probe_ph_temperature', 'system_state', 'manometer_pressure', 'gas_mixer_percent_co2_measured', 'mettler_ph_ttm', 'heat_exchanger_status_flag', 'mettler_co2_mv', 'brain_box_drain_solenoid_flag', 'glucose_syringe_direction', 'timestamp', 'probe_co2_temperature', 'pulse_generator_amplitude', 'gas_mixer_flow_n2_measured', 'viscosity_measured', 'gas_mixer_flow_co2_measured', 'brain_pressure_measured', 'pulse_generator_factor', 'glucose_pump_rate_manual_setpoint', 'gas_mixer_o2_ramp_flag', 'mettler_ph_act', 'probe_o2_temperature', 'brain_flow_target', 'oxyline_flow_measured', 'arduino_reset_relay_flag', 'run_start_flag', 'heat_exchanger_oscillation_amplitude', 'main_pump_regulation_flag', 'email_status_flag', 'gas_mixer_o2_setpoint', 'sensorbox_drain_solenoid_2_flag', 'pulse_generator_pressure_upper_bound', 'organ_resistance_regulation_flag', 'gas_mixer_o2_ramp_setpoint', 'efficiency_gas_mixer_co2', 'heat_exchanger_oscillation_flag', 'pulse_generator_autoregulation_flag', 'dialysis_pressure_valve_setpoint', 'probe_partial_pressure_co2', 'mettler_co2_ttm', 'pulse_generator_amp_flow_range_setpoint', 'sensorbox_drain_solenoid_1_flag', 'gas_mixer_percent_n2_measured', 'pulse_generator_base_setpoint', 'main_pump_rate_measured', 'glucose_control_mode_volume_flag', 'dialysis_main_pump_setrate', 'probe_partial_pressure_o2', 'pulse_generator_control_mode', 'efficiency_gas_mixer_o2', 'main_pump_oscillation_flag', 'dialysis_regulation_flag', 'efficiency_pulse_generator', 'brain_scale_weight', 'autopilot_flag', 'brain_pressure_range_calculated', 'mettler_o2_dli', 'heat_exchanger_temperature_ramp_setpoint', 'organ_resistance_setpoint', 'gas_mixer_o2_ramp_time', 'heat_exchanger_temperature_setpoint_measured', 'exit_all_flag', 'air_supply_pressure', 'mettler_ph_dli', 'probe_ph', 'gas_mixer_flow_setpoint', 'brain_box_waste_solenoid_flag', 'glucose_syringe_pump_rate_measured', 'oxyline_flow_target', 'heat_exchanger_temperature_ramp_time', 'pulse_generator_value_measured', 'oxygenator_purge_solenoid_flag']\n",
            "val foud  probe_o2_temperature\n"
          ]
        }
      ]
    },
    {
      "cell_type": "code",
      "source": [
        "def common_elements(list1, list2):\n",
        "    common_values = [value for value in list1 if value in list2]\n",
        "    return common_values"
      ],
      "metadata": {
        "id": "7gBqxNo70hHW"
      },
      "execution_count": 98,
      "outputs": []
    },
    {
      "cell_type": "code",
      "source": [
        "schema[['perfusion_id','air_supply_pressure']]"
      ],
      "metadata": {
        "colab": {
          "base_uri": "https://localhost:8080/",
          "height": 424
        },
        "id": "rYeIotOzXvma",
        "outputId": "b20a8f2e-c8db-498c-eddc-6805a3daa5d1"
      },
      "execution_count": 320,
      "outputs": [
        {
          "output_type": "execute_result",
          "data": {
            "text/plain": [
              "   perfusion_id air_supply_pressure\n",
              "0         BEXI1                None\n",
              "1         BEXI1                None\n",
              "2         BEXI1                None\n",
              "3         BEXI1                None\n",
              "4         BEXI1                None\n",
              "..          ...                 ...\n",
              "95        BEXI1                None\n",
              "96        BEXI1                None\n",
              "97        BEXI1                None\n",
              "98        BEXI1                None\n",
              "99        BEXI1                None\n",
              "\n",
              "[100 rows x 2 columns]"
            ],
            "text/html": [
              "\n",
              "  <div id=\"df-b42bcecf-332d-4698-8f0a-8010708acd74\" class=\"colab-df-container\">\n",
              "    <div>\n",
              "<style scoped>\n",
              "    .dataframe tbody tr th:only-of-type {\n",
              "        vertical-align: middle;\n",
              "    }\n",
              "\n",
              "    .dataframe tbody tr th {\n",
              "        vertical-align: top;\n",
              "    }\n",
              "\n",
              "    .dataframe thead th {\n",
              "        text-align: right;\n",
              "    }\n",
              "</style>\n",
              "<table border=\"1\" class=\"dataframe\">\n",
              "  <thead>\n",
              "    <tr style=\"text-align: right;\">\n",
              "      <th></th>\n",
              "      <th>perfusion_id</th>\n",
              "      <th>air_supply_pressure</th>\n",
              "    </tr>\n",
              "  </thead>\n",
              "  <tbody>\n",
              "    <tr>\n",
              "      <th>0</th>\n",
              "      <td>BEXI1</td>\n",
              "      <td>None</td>\n",
              "    </tr>\n",
              "    <tr>\n",
              "      <th>1</th>\n",
              "      <td>BEXI1</td>\n",
              "      <td>None</td>\n",
              "    </tr>\n",
              "    <tr>\n",
              "      <th>2</th>\n",
              "      <td>BEXI1</td>\n",
              "      <td>None</td>\n",
              "    </tr>\n",
              "    <tr>\n",
              "      <th>3</th>\n",
              "      <td>BEXI1</td>\n",
              "      <td>None</td>\n",
              "    </tr>\n",
              "    <tr>\n",
              "      <th>4</th>\n",
              "      <td>BEXI1</td>\n",
              "      <td>None</td>\n",
              "    </tr>\n",
              "    <tr>\n",
              "      <th>...</th>\n",
              "      <td>...</td>\n",
              "      <td>...</td>\n",
              "    </tr>\n",
              "    <tr>\n",
              "      <th>95</th>\n",
              "      <td>BEXI1</td>\n",
              "      <td>None</td>\n",
              "    </tr>\n",
              "    <tr>\n",
              "      <th>96</th>\n",
              "      <td>BEXI1</td>\n",
              "      <td>None</td>\n",
              "    </tr>\n",
              "    <tr>\n",
              "      <th>97</th>\n",
              "      <td>BEXI1</td>\n",
              "      <td>None</td>\n",
              "    </tr>\n",
              "    <tr>\n",
              "      <th>98</th>\n",
              "      <td>BEXI1</td>\n",
              "      <td>None</td>\n",
              "    </tr>\n",
              "    <tr>\n",
              "      <th>99</th>\n",
              "      <td>BEXI1</td>\n",
              "      <td>None</td>\n",
              "    </tr>\n",
              "  </tbody>\n",
              "</table>\n",
              "<p>100 rows × 2 columns</p>\n",
              "</div>\n",
              "    <div class=\"colab-df-buttons\">\n",
              "\n",
              "  <div class=\"colab-df-container\">\n",
              "    <button class=\"colab-df-convert\" onclick=\"convertToInteractive('df-b42bcecf-332d-4698-8f0a-8010708acd74')\"\n",
              "            title=\"Convert this dataframe to an interactive table.\"\n",
              "            style=\"display:none;\">\n",
              "\n",
              "  <svg xmlns=\"http://www.w3.org/2000/svg\" height=\"24px\" viewBox=\"0 -960 960 960\">\n",
              "    <path d=\"M120-120v-720h720v720H120Zm60-500h600v-160H180v160Zm220 220h160v-160H400v160Zm0 220h160v-160H400v160ZM180-400h160v-160H180v160Zm440 0h160v-160H620v160ZM180-180h160v-160H180v160Zm440 0h160v-160H620v160Z\"/>\n",
              "  </svg>\n",
              "    </button>\n",
              "\n",
              "  <style>\n",
              "    .colab-df-container {\n",
              "      display:flex;\n",
              "      gap: 12px;\n",
              "    }\n",
              "\n",
              "    .colab-df-convert {\n",
              "      background-color: #E8F0FE;\n",
              "      border: none;\n",
              "      border-radius: 50%;\n",
              "      cursor: pointer;\n",
              "      display: none;\n",
              "      fill: #1967D2;\n",
              "      height: 32px;\n",
              "      padding: 0 0 0 0;\n",
              "      width: 32px;\n",
              "    }\n",
              "\n",
              "    .colab-df-convert:hover {\n",
              "      background-color: #E2EBFA;\n",
              "      box-shadow: 0px 1px 2px rgba(60, 64, 67, 0.3), 0px 1px 3px 1px rgba(60, 64, 67, 0.15);\n",
              "      fill: #174EA6;\n",
              "    }\n",
              "\n",
              "    .colab-df-buttons div {\n",
              "      margin-bottom: 4px;\n",
              "    }\n",
              "\n",
              "    [theme=dark] .colab-df-convert {\n",
              "      background-color: #3B4455;\n",
              "      fill: #D2E3FC;\n",
              "    }\n",
              "\n",
              "    [theme=dark] .colab-df-convert:hover {\n",
              "      background-color: #434B5C;\n",
              "      box-shadow: 0px 1px 3px 1px rgba(0, 0, 0, 0.15);\n",
              "      filter: drop-shadow(0px 1px 2px rgba(0, 0, 0, 0.3));\n",
              "      fill: #FFFFFF;\n",
              "    }\n",
              "  </style>\n",
              "\n",
              "    <script>\n",
              "      const buttonEl =\n",
              "        document.querySelector('#df-b42bcecf-332d-4698-8f0a-8010708acd74 button.colab-df-convert');\n",
              "      buttonEl.style.display =\n",
              "        google.colab.kernel.accessAllowed ? 'block' : 'none';\n",
              "\n",
              "      async function convertToInteractive(key) {\n",
              "        const element = document.querySelector('#df-b42bcecf-332d-4698-8f0a-8010708acd74');\n",
              "        const dataTable =\n",
              "          await google.colab.kernel.invokeFunction('convertToInteractive',\n",
              "                                                    [key], {});\n",
              "        if (!dataTable) return;\n",
              "\n",
              "        const docLinkHtml = 'Like what you see? Visit the ' +\n",
              "          '<a target=\"_blank\" href=https://colab.research.google.com/notebooks/data_table.ipynb>data table notebook</a>'\n",
              "          + ' to learn more about interactive tables.';\n",
              "        element.innerHTML = '';\n",
              "        dataTable['output_type'] = 'display_data';\n",
              "        await google.colab.output.renderOutput(dataTable, element);\n",
              "        const docLink = document.createElement('div');\n",
              "        docLink.innerHTML = docLinkHtml;\n",
              "        element.appendChild(docLink);\n",
              "      }\n",
              "    </script>\n",
              "  </div>\n",
              "\n",
              "\n",
              "<div id=\"df-295fc50b-c4ab-431b-a3be-080a1c192739\">\n",
              "  <button class=\"colab-df-quickchart\" onclick=\"quickchart('df-295fc50b-c4ab-431b-a3be-080a1c192739')\"\n",
              "            title=\"Suggest charts\"\n",
              "            style=\"display:none;\">\n",
              "\n",
              "<svg xmlns=\"http://www.w3.org/2000/svg\" height=\"24px\"viewBox=\"0 0 24 24\"\n",
              "     width=\"24px\">\n",
              "    <g>\n",
              "        <path d=\"M19 3H5c-1.1 0-2 .9-2 2v14c0 1.1.9 2 2 2h14c1.1 0 2-.9 2-2V5c0-1.1-.9-2-2-2zM9 17H7v-7h2v7zm4 0h-2V7h2v10zm4 0h-2v-4h2v4z\"/>\n",
              "    </g>\n",
              "</svg>\n",
              "  </button>\n",
              "\n",
              "<style>\n",
              "  .colab-df-quickchart {\n",
              "      --bg-color: #E8F0FE;\n",
              "      --fill-color: #1967D2;\n",
              "      --hover-bg-color: #E2EBFA;\n",
              "      --hover-fill-color: #174EA6;\n",
              "      --disabled-fill-color: #AAA;\n",
              "      --disabled-bg-color: #DDD;\n",
              "  }\n",
              "\n",
              "  [theme=dark] .colab-df-quickchart {\n",
              "      --bg-color: #3B4455;\n",
              "      --fill-color: #D2E3FC;\n",
              "      --hover-bg-color: #434B5C;\n",
              "      --hover-fill-color: #FFFFFF;\n",
              "      --disabled-bg-color: #3B4455;\n",
              "      --disabled-fill-color: #666;\n",
              "  }\n",
              "\n",
              "  .colab-df-quickchart {\n",
              "    background-color: var(--bg-color);\n",
              "    border: none;\n",
              "    border-radius: 50%;\n",
              "    cursor: pointer;\n",
              "    display: none;\n",
              "    fill: var(--fill-color);\n",
              "    height: 32px;\n",
              "    padding: 0;\n",
              "    width: 32px;\n",
              "  }\n",
              "\n",
              "  .colab-df-quickchart:hover {\n",
              "    background-color: var(--hover-bg-color);\n",
              "    box-shadow: 0 1px 2px rgba(60, 64, 67, 0.3), 0 1px 3px 1px rgba(60, 64, 67, 0.15);\n",
              "    fill: var(--button-hover-fill-color);\n",
              "  }\n",
              "\n",
              "  .colab-df-quickchart-complete:disabled,\n",
              "  .colab-df-quickchart-complete:disabled:hover {\n",
              "    background-color: var(--disabled-bg-color);\n",
              "    fill: var(--disabled-fill-color);\n",
              "    box-shadow: none;\n",
              "  }\n",
              "\n",
              "  .colab-df-spinner {\n",
              "    border: 2px solid var(--fill-color);\n",
              "    border-color: transparent;\n",
              "    border-bottom-color: var(--fill-color);\n",
              "    animation:\n",
              "      spin 1s steps(1) infinite;\n",
              "  }\n",
              "\n",
              "  @keyframes spin {\n",
              "    0% {\n",
              "      border-color: transparent;\n",
              "      border-bottom-color: var(--fill-color);\n",
              "      border-left-color: var(--fill-color);\n",
              "    }\n",
              "    20% {\n",
              "      border-color: transparent;\n",
              "      border-left-color: var(--fill-color);\n",
              "      border-top-color: var(--fill-color);\n",
              "    }\n",
              "    30% {\n",
              "      border-color: transparent;\n",
              "      border-left-color: var(--fill-color);\n",
              "      border-top-color: var(--fill-color);\n",
              "      border-right-color: var(--fill-color);\n",
              "    }\n",
              "    40% {\n",
              "      border-color: transparent;\n",
              "      border-right-color: var(--fill-color);\n",
              "      border-top-color: var(--fill-color);\n",
              "    }\n",
              "    60% {\n",
              "      border-color: transparent;\n",
              "      border-right-color: var(--fill-color);\n",
              "    }\n",
              "    80% {\n",
              "      border-color: transparent;\n",
              "      border-right-color: var(--fill-color);\n",
              "      border-bottom-color: var(--fill-color);\n",
              "    }\n",
              "    90% {\n",
              "      border-color: transparent;\n",
              "      border-bottom-color: var(--fill-color);\n",
              "    }\n",
              "  }\n",
              "</style>\n",
              "\n",
              "  <script>\n",
              "    async function quickchart(key) {\n",
              "      const quickchartButtonEl =\n",
              "        document.querySelector('#' + key + ' button');\n",
              "      quickchartButtonEl.disabled = true;  // To prevent multiple clicks.\n",
              "      quickchartButtonEl.classList.add('colab-df-spinner');\n",
              "      try {\n",
              "        const charts = await google.colab.kernel.invokeFunction(\n",
              "            'suggestCharts', [key], {});\n",
              "      } catch (error) {\n",
              "        console.error('Error during call to suggestCharts:', error);\n",
              "      }\n",
              "      quickchartButtonEl.classList.remove('colab-df-spinner');\n",
              "      quickchartButtonEl.classList.add('colab-df-quickchart-complete');\n",
              "    }\n",
              "    (() => {\n",
              "      let quickchartButtonEl =\n",
              "        document.querySelector('#df-295fc50b-c4ab-431b-a3be-080a1c192739 button');\n",
              "      quickchartButtonEl.style.display =\n",
              "        google.colab.kernel.accessAllowed ? 'block' : 'none';\n",
              "    })();\n",
              "  </script>\n",
              "</div>\n",
              "    </div>\n",
              "  </div>\n"
            ],
            "application/vnd.google.colaboratory.intrinsic+json": {
              "type": "dataframe",
              "repr_error": "'str' object has no attribute 'empty'"
            }
          },
          "metadata": {},
          "execution_count": 320
        }
      ]
    },
    {
      "cell_type": "code",
      "source": [
        "combined_df[['perfusion_id','air_supply_pressure']]"
      ],
      "metadata": {
        "colab": {
          "base_uri": "https://localhost:8080/",
          "height": 424
        },
        "id": "S4h_zgkf0iZu",
        "outputId": "d27c3bb2-0c20-4b8d-f84e-91d33ce50b8f"
      },
      "execution_count": 319,
      "outputs": [
        {
          "output_type": "execute_result",
          "data": {
            "text/plain": [
              "    perfusion_id air_supply_pressure\n",
              "0          BEXI1                None\n",
              "1          BEXI1                None\n",
              "2          BEXI1                None\n",
              "3          BEXI1                None\n",
              "4          BEXI1                None\n",
              "..           ...                 ...\n",
              "98         BEXI1                None\n",
              "99         BEXI1                None\n",
              "100  to be added                 NaN\n",
              "101  to be added               323.0\n",
              "102  to be added               320.0\n",
              "\n",
              "[103 rows x 2 columns]"
            ],
            "text/html": [
              "\n",
              "  <div id=\"df-609e927b-482a-4776-bad1-2d287a6ec1d8\" class=\"colab-df-container\">\n",
              "    <div>\n",
              "<style scoped>\n",
              "    .dataframe tbody tr th:only-of-type {\n",
              "        vertical-align: middle;\n",
              "    }\n",
              "\n",
              "    .dataframe tbody tr th {\n",
              "        vertical-align: top;\n",
              "    }\n",
              "\n",
              "    .dataframe thead th {\n",
              "        text-align: right;\n",
              "    }\n",
              "</style>\n",
              "<table border=\"1\" class=\"dataframe\">\n",
              "  <thead>\n",
              "    <tr style=\"text-align: right;\">\n",
              "      <th></th>\n",
              "      <th>perfusion_id</th>\n",
              "      <th>air_supply_pressure</th>\n",
              "    </tr>\n",
              "  </thead>\n",
              "  <tbody>\n",
              "    <tr>\n",
              "      <th>0</th>\n",
              "      <td>BEXI1</td>\n",
              "      <td>None</td>\n",
              "    </tr>\n",
              "    <tr>\n",
              "      <th>1</th>\n",
              "      <td>BEXI1</td>\n",
              "      <td>None</td>\n",
              "    </tr>\n",
              "    <tr>\n",
              "      <th>2</th>\n",
              "      <td>BEXI1</td>\n",
              "      <td>None</td>\n",
              "    </tr>\n",
              "    <tr>\n",
              "      <th>3</th>\n",
              "      <td>BEXI1</td>\n",
              "      <td>None</td>\n",
              "    </tr>\n",
              "    <tr>\n",
              "      <th>4</th>\n",
              "      <td>BEXI1</td>\n",
              "      <td>None</td>\n",
              "    </tr>\n",
              "    <tr>\n",
              "      <th>...</th>\n",
              "      <td>...</td>\n",
              "      <td>...</td>\n",
              "    </tr>\n",
              "    <tr>\n",
              "      <th>98</th>\n",
              "      <td>BEXI1</td>\n",
              "      <td>None</td>\n",
              "    </tr>\n",
              "    <tr>\n",
              "      <th>99</th>\n",
              "      <td>BEXI1</td>\n",
              "      <td>None</td>\n",
              "    </tr>\n",
              "    <tr>\n",
              "      <th>100</th>\n",
              "      <td>to be added</td>\n",
              "      <td>NaN</td>\n",
              "    </tr>\n",
              "    <tr>\n",
              "      <th>101</th>\n",
              "      <td>to be added</td>\n",
              "      <td>323.0</td>\n",
              "    </tr>\n",
              "    <tr>\n",
              "      <th>102</th>\n",
              "      <td>to be added</td>\n",
              "      <td>320.0</td>\n",
              "    </tr>\n",
              "  </tbody>\n",
              "</table>\n",
              "<p>103 rows × 2 columns</p>\n",
              "</div>\n",
              "    <div class=\"colab-df-buttons\">\n",
              "\n",
              "  <div class=\"colab-df-container\">\n",
              "    <button class=\"colab-df-convert\" onclick=\"convertToInteractive('df-609e927b-482a-4776-bad1-2d287a6ec1d8')\"\n",
              "            title=\"Convert this dataframe to an interactive table.\"\n",
              "            style=\"display:none;\">\n",
              "\n",
              "  <svg xmlns=\"http://www.w3.org/2000/svg\" height=\"24px\" viewBox=\"0 -960 960 960\">\n",
              "    <path d=\"M120-120v-720h720v720H120Zm60-500h600v-160H180v160Zm220 220h160v-160H400v160Zm0 220h160v-160H400v160ZM180-400h160v-160H180v160Zm440 0h160v-160H620v160ZM180-180h160v-160H180v160Zm440 0h160v-160H620v160Z\"/>\n",
              "  </svg>\n",
              "    </button>\n",
              "\n",
              "  <style>\n",
              "    .colab-df-container {\n",
              "      display:flex;\n",
              "      gap: 12px;\n",
              "    }\n",
              "\n",
              "    .colab-df-convert {\n",
              "      background-color: #E8F0FE;\n",
              "      border: none;\n",
              "      border-radius: 50%;\n",
              "      cursor: pointer;\n",
              "      display: none;\n",
              "      fill: #1967D2;\n",
              "      height: 32px;\n",
              "      padding: 0 0 0 0;\n",
              "      width: 32px;\n",
              "    }\n",
              "\n",
              "    .colab-df-convert:hover {\n",
              "      background-color: #E2EBFA;\n",
              "      box-shadow: 0px 1px 2px rgba(60, 64, 67, 0.3), 0px 1px 3px 1px rgba(60, 64, 67, 0.15);\n",
              "      fill: #174EA6;\n",
              "    }\n",
              "\n",
              "    .colab-df-buttons div {\n",
              "      margin-bottom: 4px;\n",
              "    }\n",
              "\n",
              "    [theme=dark] .colab-df-convert {\n",
              "      background-color: #3B4455;\n",
              "      fill: #D2E3FC;\n",
              "    }\n",
              "\n",
              "    [theme=dark] .colab-df-convert:hover {\n",
              "      background-color: #434B5C;\n",
              "      box-shadow: 0px 1px 3px 1px rgba(0, 0, 0, 0.15);\n",
              "      filter: drop-shadow(0px 1px 2px rgba(0, 0, 0, 0.3));\n",
              "      fill: #FFFFFF;\n",
              "    }\n",
              "  </style>\n",
              "\n",
              "    <script>\n",
              "      const buttonEl =\n",
              "        document.querySelector('#df-609e927b-482a-4776-bad1-2d287a6ec1d8 button.colab-df-convert');\n",
              "      buttonEl.style.display =\n",
              "        google.colab.kernel.accessAllowed ? 'block' : 'none';\n",
              "\n",
              "      async function convertToInteractive(key) {\n",
              "        const element = document.querySelector('#df-609e927b-482a-4776-bad1-2d287a6ec1d8');\n",
              "        const dataTable =\n",
              "          await google.colab.kernel.invokeFunction('convertToInteractive',\n",
              "                                                    [key], {});\n",
              "        if (!dataTable) return;\n",
              "\n",
              "        const docLinkHtml = 'Like what you see? Visit the ' +\n",
              "          '<a target=\"_blank\" href=https://colab.research.google.com/notebooks/data_table.ipynb>data table notebook</a>'\n",
              "          + ' to learn more about interactive tables.';\n",
              "        element.innerHTML = '';\n",
              "        dataTable['output_type'] = 'display_data';\n",
              "        await google.colab.output.renderOutput(dataTable, element);\n",
              "        const docLink = document.createElement('div');\n",
              "        docLink.innerHTML = docLinkHtml;\n",
              "        element.appendChild(docLink);\n",
              "      }\n",
              "    </script>\n",
              "  </div>\n",
              "\n",
              "\n",
              "<div id=\"df-d07a625c-8424-49b0-ac41-8ec9461320d4\">\n",
              "  <button class=\"colab-df-quickchart\" onclick=\"quickchart('df-d07a625c-8424-49b0-ac41-8ec9461320d4')\"\n",
              "            title=\"Suggest charts\"\n",
              "            style=\"display:none;\">\n",
              "\n",
              "<svg xmlns=\"http://www.w3.org/2000/svg\" height=\"24px\"viewBox=\"0 0 24 24\"\n",
              "     width=\"24px\">\n",
              "    <g>\n",
              "        <path d=\"M19 3H5c-1.1 0-2 .9-2 2v14c0 1.1.9 2 2 2h14c1.1 0 2-.9 2-2V5c0-1.1-.9-2-2-2zM9 17H7v-7h2v7zm4 0h-2V7h2v10zm4 0h-2v-4h2v4z\"/>\n",
              "    </g>\n",
              "</svg>\n",
              "  </button>\n",
              "\n",
              "<style>\n",
              "  .colab-df-quickchart {\n",
              "      --bg-color: #E8F0FE;\n",
              "      --fill-color: #1967D2;\n",
              "      --hover-bg-color: #E2EBFA;\n",
              "      --hover-fill-color: #174EA6;\n",
              "      --disabled-fill-color: #AAA;\n",
              "      --disabled-bg-color: #DDD;\n",
              "  }\n",
              "\n",
              "  [theme=dark] .colab-df-quickchart {\n",
              "      --bg-color: #3B4455;\n",
              "      --fill-color: #D2E3FC;\n",
              "      --hover-bg-color: #434B5C;\n",
              "      --hover-fill-color: #FFFFFF;\n",
              "      --disabled-bg-color: #3B4455;\n",
              "      --disabled-fill-color: #666;\n",
              "  }\n",
              "\n",
              "  .colab-df-quickchart {\n",
              "    background-color: var(--bg-color);\n",
              "    border: none;\n",
              "    border-radius: 50%;\n",
              "    cursor: pointer;\n",
              "    display: none;\n",
              "    fill: var(--fill-color);\n",
              "    height: 32px;\n",
              "    padding: 0;\n",
              "    width: 32px;\n",
              "  }\n",
              "\n",
              "  .colab-df-quickchart:hover {\n",
              "    background-color: var(--hover-bg-color);\n",
              "    box-shadow: 0 1px 2px rgba(60, 64, 67, 0.3), 0 1px 3px 1px rgba(60, 64, 67, 0.15);\n",
              "    fill: var(--button-hover-fill-color);\n",
              "  }\n",
              "\n",
              "  .colab-df-quickchart-complete:disabled,\n",
              "  .colab-df-quickchart-complete:disabled:hover {\n",
              "    background-color: var(--disabled-bg-color);\n",
              "    fill: var(--disabled-fill-color);\n",
              "    box-shadow: none;\n",
              "  }\n",
              "\n",
              "  .colab-df-spinner {\n",
              "    border: 2px solid var(--fill-color);\n",
              "    border-color: transparent;\n",
              "    border-bottom-color: var(--fill-color);\n",
              "    animation:\n",
              "      spin 1s steps(1) infinite;\n",
              "  }\n",
              "\n",
              "  @keyframes spin {\n",
              "    0% {\n",
              "      border-color: transparent;\n",
              "      border-bottom-color: var(--fill-color);\n",
              "      border-left-color: var(--fill-color);\n",
              "    }\n",
              "    20% {\n",
              "      border-color: transparent;\n",
              "      border-left-color: var(--fill-color);\n",
              "      border-top-color: var(--fill-color);\n",
              "    }\n",
              "    30% {\n",
              "      border-color: transparent;\n",
              "      border-left-color: var(--fill-color);\n",
              "      border-top-color: var(--fill-color);\n",
              "      border-right-color: var(--fill-color);\n",
              "    }\n",
              "    40% {\n",
              "      border-color: transparent;\n",
              "      border-right-color: var(--fill-color);\n",
              "      border-top-color: var(--fill-color);\n",
              "    }\n",
              "    60% {\n",
              "      border-color: transparent;\n",
              "      border-right-color: var(--fill-color);\n",
              "    }\n",
              "    80% {\n",
              "      border-color: transparent;\n",
              "      border-right-color: var(--fill-color);\n",
              "      border-bottom-color: var(--fill-color);\n",
              "    }\n",
              "    90% {\n",
              "      border-color: transparent;\n",
              "      border-bottom-color: var(--fill-color);\n",
              "    }\n",
              "  }\n",
              "</style>\n",
              "\n",
              "  <script>\n",
              "    async function quickchart(key) {\n",
              "      const quickchartButtonEl =\n",
              "        document.querySelector('#' + key + ' button');\n",
              "      quickchartButtonEl.disabled = true;  // To prevent multiple clicks.\n",
              "      quickchartButtonEl.classList.add('colab-df-spinner');\n",
              "      try {\n",
              "        const charts = await google.colab.kernel.invokeFunction(\n",
              "            'suggestCharts', [key], {});\n",
              "      } catch (error) {\n",
              "        console.error('Error during call to suggestCharts:', error);\n",
              "      }\n",
              "      quickchartButtonEl.classList.remove('colab-df-spinner');\n",
              "      quickchartButtonEl.classList.add('colab-df-quickchart-complete');\n",
              "    }\n",
              "    (() => {\n",
              "      let quickchartButtonEl =\n",
              "        document.querySelector('#df-d07a625c-8424-49b0-ac41-8ec9461320d4 button');\n",
              "      quickchartButtonEl.style.display =\n",
              "        google.colab.kernel.accessAllowed ? 'block' : 'none';\n",
              "    })();\n",
              "  </script>\n",
              "</div>\n",
              "    </div>\n",
              "  </div>\n"
            ],
            "application/vnd.google.colaboratory.intrinsic+json": {
              "type": "dataframe",
              "repr_error": "'str' object has no attribute 'empty'"
            }
          },
          "metadata": {},
          "execution_count": 319
        }
      ]
    }
  ]
}