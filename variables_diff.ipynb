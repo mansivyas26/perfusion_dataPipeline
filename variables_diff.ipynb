{
  "nbformat": 4,
  "nbformat_minor": 0,
  "metadata": {
    "colab": {
      "provenance": [],
      "mount_file_id": "1gedzhMOMPhED2teXsKLF4-FVO3cqJYSB",
      "authorship_tag": "ABX9TyPuTdWHNjxO2ds8aOfwsSCp",
      "include_colab_link": true
    },
    "kernelspec": {
      "name": "python3",
      "display_name": "Python 3"
    },
    "language_info": {
      "name": "python"
    }
  },
  "cells": [
    {
      "cell_type": "markdown",
      "metadata": {
        "id": "view-in-github",
        "colab_type": "text"
      },
      "source": [
        "<a href=\"https://colab.research.google.com/github/mansivyas26/perfusion_dataPipeline/blob/main/variables_diff.ipynb\" target=\"_parent\"><img src=\"https://colab.research.google.com/assets/colab-badge.svg\" alt=\"Open In Colab\"/></a>"
      ]
    },
    {
      "cell_type": "code",
      "execution_count": 454,
      "metadata": {
        "id": "ACxMkMSV9O3M"
      },
      "outputs": [],
      "source": [
        "import pandas as pd\n",
        "import numpy as np\n",
        "import random\n",
        "import ast\n",
        "import warnings\n",
        "warnings.filterwarnings('ignore')"
      ]
    },
    {
      "cell_type": "code",
      "source": [
        "#read individual runs file .pkl\n",
        "perfusion_data = pd.read_pickle(\"/content/drive/MyDrive/Steve_BEXT84_01-17-2024_13-56-14_all_data.pkl\")"
      ],
      "metadata": {
        "id": "Px1ophy5-N9x"
      },
      "execution_count": 469,
      "outputs": []
    },
    {
      "cell_type": "code",
      "source": [
        "#read variable dictionary\n",
        "variable_dict = pd.read_csv(\"/content/drive/MyDrive/Pefusion_DataPipeline/test_262.02 - test.csv\")\n",
        "\n",
        "variable_dict['possible_variables'] = variable_dict['possible_variables'].apply(ast.literal_eval)\n",
        "#variable_dict.to_csv(\"/content/drive/MyDrive/Pefusion_DataPipeline/test.csv\")\n"
      ],
      "metadata": {
        "id": "DFYUo-YwQOVv"
      },
      "execution_count": 468,
      "outputs": []
    },
    {
      "cell_type": "code",
      "source": [
        "#reading the existing schema\n",
        "schema = pd.read_csv(\"/content/drive/MyDrive/Pefusion_DataPipeline/m12_full_join.csv\",nrows=10)"
      ],
      "metadata": {
        "id": "f5yj61upCFvF"
      },
      "execution_count": 487,
      "outputs": []
    },
    {
      "cell_type": "code",
      "source": [
        "perfusion_data_subset = perfusion_data.head(3)"
      ],
      "metadata": {
        "id": "oefOecUbFCkU"
      },
      "execution_count": 488,
      "outputs": []
    },
    {
      "cell_type": "code",
      "source": [
        "#check scehma with variable dictionary and renames the column if needed to standard_variable\n",
        "def check_schema(schema,variable_dict):\n",
        "  columns = schema.columns.tolist()\n",
        "  for column in columns:\n",
        "        match_found = False\n",
        "        for idx, row in variable_dict.iterrows():\n",
        "            if column in row['possible_variables']:\n",
        "                match_found = True\n",
        "                if column != row['standard_variable']:\n",
        "                    print(\"columns that were renamed\",column)\n",
        "                    schema.rename(columns={column: row['standard_variable']}, inplace=True)"
      ],
      "metadata": {
        "id": "jYXEx7oGnlK-"
      },
      "execution_count": 486,
      "outputs": []
    },
    {
      "cell_type": "code",
      "source": [
        "#function call\n",
        "check_schema(schema,variable_dict)"
      ],
      "metadata": {
        "colab": {
          "base_uri": "https://localhost:8080/"
        },
        "id": "dcLRQwGiqwhH",
        "outputId": "b4fe3ee1-2363-4d6d-c2e4-043ec03b7a91"
      },
      "execution_count": 473,
      "outputs": [
        {
          "output_type": "stream",
          "name": "stdout",
          "text": [
            "columns that were renamed glucose_control_mode\n",
            "columns that were renamed syringe_pump_manual_setrate\n",
            "columns that were renamed time\n",
            "columns that were renamed probe_ph_mv_measured\n",
            "columns that were renamed glucose_pump_rate_setpoint\n"
          ]
        }
      ]
    },
    {
      "cell_type": "markdown",
      "source": [
        "Compare .pkl file , variable_dicitionary and schema\n",
        "Case A : if column in pkl file match one of the values in variable_dictionary['possible_variable']\n",
        "Case 1 : if column in .pkl , variable dictionary['standard_variable'] and schema match\n",
        "Case 2 : If column name is different ,in this case column is match with possible variables values and check if it's existing column if yes then column name is renamed to standard variable\n",
        "Case 3 : If column name is new and does not exist in schema , in this case column is added to schema and variable_status is changed to exisitng **change schema df and schema table in bucket and big query,update variable_dictionary**\n",
        "Case 4 : If column is in \"Removed\" stage\n",
        "        Case 4.a both column exsist in schema and .pkl , removed change the name to standard variable\n",
        "        Case 4.b column exist in schema but not in pkl,removed -> pkl['standard_variable'] = None\n",
        "        Case 4.c\n"
      ],
      "metadata": {
        "id": "JlCKZSWrNXOO"
      }
    },
    {
      "cell_type": "code",
      "source": [
        "\n",
        "def check_columns(df):\n",
        "  val = 'None'\n",
        "  if val in df.columns:\n",
        "      # Drop the column named 'None'\n",
        "      df = df.drop(columns=[val])\n"
      ],
      "metadata": {
        "id": "1iwiiTtxx7eq"
      },
      "execution_count": 474,
      "outputs": []
    },
    {
      "cell_type": "code",
      "source": [
        "check_columns(perfusion_data_subset)"
      ],
      "metadata": {
        "id": "setYf4U3yDaI"
      },
      "execution_count": 475,
      "outputs": []
    },
    {
      "cell_type": "code",
      "source": [
        "check_columns(schema)"
      ],
      "metadata": {
        "id": "MtQYCcK2yG7m"
      },
      "execution_count": 476,
      "outputs": []
    },
    {
      "cell_type": "code",
      "source": [
        "#compare .pkl file , variable dicitionary and Schema\n",
        "\n",
        "def check_runs_with_variable_dict_new(pkl_df, variable_dict, schema_subset):\n",
        "\n",
        "    removed_columns = []  # List to keep track of REMOVED columns\n",
        "    list_of_files_ignored_in_pkl = ['timestamp','glucose_syringe_pump_buzzer']\n",
        "    list_of_files_ignored_in_schema = ['resistance_qc_solenoid_flag','perfusion_date','perfusion_id','control_time','glucose_syringe_pump_dispensed_control', 'glucose_syringe_pump_buzzer_control']\n",
        "\n",
        "    temporary_none = ['dialysis_compensate_scale_weight','dialysis_flux_valve_position','viscometer_temperature','dialysis_post_pressure','dialysis_compensate_pump_rate','dialysis_compensate_scale_flux','dialysis_pre_pressure','dialysis_pre_pressure_setpoint','dialysis_pressure_valve_position','dialysis_waste_scale_flux','dialysis_waste_scale_weight','']\n",
        "    #list of variables to be added in schema\n",
        "    for idx, row in variable_dict.iterrows():\n",
        "            if row['standard_variable'] in list_of_files_ignored_in_schema:\n",
        "                  pkl_df[row['standard_variable']] = \"to be added\"\n",
        "    columns = pkl_df.columns.tolist()\n",
        "    for column in columns:\n",
        "        match_found = False\n",
        "        for idx, row in variable_dict.iterrows():\n",
        "           if column in row['possible_variables']:\n",
        "                match_found = True\n",
        "                if row['variable_status'] == \"EXISTING\" and column != row['standard_variable']:\n",
        "                    pkl_df.rename(columns={column: row['standard_variable']}, inplace=True)\n",
        "                    if column in schema_subset.columns:\n",
        "                        schema_subset.rename(columns={column: row['standard_variable']}, inplace=True)\n",
        "                elif row['variable_status'] == \"NEW\":\n",
        "                    #add a column with name row['standard_variable'] and  value = None\n",
        "                    variable_dict.loc[idx,'variable_status'] = \"EXISTING\"\n",
        "                  #rename to standard variable\n",
        "                    if row['standard_variable'] not in schema_subset.columns:\n",
        "                        schema_subset[row['standard_variable']] = None\n",
        "\n",
        "                elif row['variable_status'] == \"REMOVED\":\n",
        "                   # print(f\"Removed column identified: {column}\")\n",
        "                    removed_columns.append(column)\n",
        "                    for c in removed_columns:\n",
        "                      print(removed_columns)\n",
        "                      pkl_df[c] = None\n",
        "\n",
        "\n",
        "           if not match_found:\n",
        "              if row['variable_status'] == \"REMOVED\":\n",
        "               pkl_df[column] = \"removed\"\n",
        "              for val in temporary_none:\n",
        "                if val in schema_subset.columns and val not in pkl_df.columns:\n",
        "        # Add a new column to the pkl DataFrame with the value initialized as None\n",
        "                 pkl_df[val] = \"None\"\n",
        "\n",
        "\n",
        "    cols_to_drop = list(set(pkl_df.columns).intersection(set(list_of_files_ignored_in_pkl)))\n",
        "    print(cols_to_drop)\n",
        "    pkl_df = pkl_df.drop(cols_to_drop,inplace=True,axis=1)\n",
        "\n",
        "\n",
        "\n",
        "\n",
        "\n",
        "\n"
      ],
      "metadata": {
        "id": "O9DGDd8fFWZD"
      },
      "execution_count": 477,
      "outputs": []
    },
    {
      "cell_type": "code",
      "source": [
        "def check_columns_match(df1, df2):\n",
        "    columns_df1 = set(df1.columns)\n",
        "    columns_df2 = set(df2.columns)\n",
        "\n",
        "    if columns_df1 != columns_df2:\n",
        "        columns_only_in_df1 = columns_df1 - columns_df2\n",
        "        columns_only_in_df2 = columns_df2 - columns_df1\n",
        "\n",
        "        print(\"Columns only in .pkl file:\", columns_only_in_df1)\n",
        "        print(\"Columns only in schema:\", columns_only_in_df2)\n",
        "        print(len(columns_only_in_df2),\"only_schema\")\n",
        "        print(len(columns_only_in_df1),\"only_pkl\")\n",
        "\n",
        "        return False\n",
        "    else:\n",
        "        print(len(df1.columns),\"pkl\")\n",
        "        print(len(df2.columns),\"schema\")\n",
        "        print(\"Columns match between the two DataFrames.\")\n",
        "        return True\n",
        "\n",
        "def append_df_row_wise(pkl_df, schema_df):\n",
        "    #pkl_df = pkl_df.drop(columns=['None'],inplace=True)\n",
        "\n",
        "    # Check if columns match\n",
        "    if not check_columns_match(pkl_df, schema_df):\n",
        "      return None\n",
        "    else:\n",
        "      schema_df = schema_df[sorted(schema_df.columns)]\n",
        "      pkl_df = pkl_df[sorted(pkl_df.columns)]\n",
        "      #print(pkl_df)\n",
        "\n",
        "      \"\"\"schema_df.reset_index(drop=True, inplace=True)\n",
        "      schema_duplicates = schema_df.index.duplicated()\n",
        "      print(\"schema\",schema_df[schema_duplicates])\n",
        "      pkl_df.reset_index(drop=True,inplace=True)\"\"\"\n",
        "\n",
        "      combined_df = schema_df.append(pkl_df,ignore_index=True)\n",
        "      print(combined_df)\n"
      ],
      "metadata": {
        "id": "2cl-bKVl7Jto"
      },
      "execution_count": 480,
      "outputs": []
    },
    {
      "cell_type": "code",
      "source": [
        "print(append_df_row_wise(perfusion_data_subset,schema))"
      ],
      "metadata": {
        "colab": {
          "base_uri": "https://localhost:8080/"
        },
        "id": "is6yS-LAxxK0",
        "outputId": "352d2eb2-e6c5-4e76-b625-96372b859773"
      },
      "execution_count": 483,
      "outputs": [
        {
          "output_type": "stream",
          "name": "stdout",
          "text": [
            "132 pkl\n",
            "132 schema\n",
            "Columns match between the two DataFrames.\n",
            "    air_supply_pressure  arduino_reset_relay  auto_sampler_flag  \\\n",
            "0                   NaN                  NaN                NaN   \n",
            "1                   NaN                  NaN                NaN   \n",
            "2                   NaN                  NaN                NaN   \n",
            "3                   NaN                  NaN                NaN   \n",
            "4                   NaN                  NaN                NaN   \n",
            "5                   NaN                  NaN                NaN   \n",
            "6                   NaN                  NaN                NaN   \n",
            "7                   NaN                  NaN                NaN   \n",
            "8                   NaN                  NaN                NaN   \n",
            "9                   NaN                  NaN                NaN   \n",
            "10                  NaN                  NaN                NaN   \n",
            "11                336.0                  0.0               -1.0   \n",
            "12                339.0                  0.0                1.0   \n",
            "\n",
            "    autopilot_flag  brain_box_drain_solenoid_flag  \\\n",
            "0              NaN                            0.0   \n",
            "1              NaN                            0.0   \n",
            "2              NaN                            0.0   \n",
            "3              NaN                            0.0   \n",
            "4              NaN                            0.0   \n",
            "5              NaN                            0.0   \n",
            "6              NaN                            0.0   \n",
            "7              NaN                            0.0   \n",
            "8              NaN                            0.0   \n",
            "9              NaN                            0.0   \n",
            "10             NaN                            NaN   \n",
            "11             0.0                            1.0   \n",
            "12             0.0                            1.0   \n",
            "\n",
            "    brain_box_waste_solenoid_flag  brain_flow_measured  \\\n",
            "0                             NaN                  2.0   \n",
            "1                             NaN                  2.0   \n",
            "2                             NaN                  2.0   \n",
            "3                             NaN                  2.0   \n",
            "4                             NaN                  2.0   \n",
            "5                             NaN                  2.0   \n",
            "6                             NaN                  2.0   \n",
            "7                             NaN                  2.0   \n",
            "8                             NaN                  2.0   \n",
            "9                             NaN                  2.0   \n",
            "10                            NaN                  0.0   \n",
            "11                            1.0                  0.0   \n",
            "12                            1.0                  0.0   \n",
            "\n",
            "   brain_flow_range_calculated brain_flow_range_target  brain_flow_target  \\\n",
            "0                         None                    None                NaN   \n",
            "1                         None                    None                NaN   \n",
            "2                         None                    None                NaN   \n",
            "3                         None                    None                NaN   \n",
            "4                         None                    None                NaN   \n",
            "5                         None                    None                NaN   \n",
            "6                         None                    None                NaN   \n",
            "7                         None                    None                NaN   \n",
            "8                         None                    None                NaN   \n",
            "9                         None                    None                NaN   \n",
            "10                         NaN                     NaN                NaN   \n",
            "11                         0.0                     0.0                0.0   \n",
            "12                         0.0                     0.0                0.0   \n",
            "\n",
            "    ...  resistance_qc_solenoid_flag resistance_regulation_flag  \\\n",
            "0   ...                          NaN                       None   \n",
            "1   ...                          NaN                       None   \n",
            "2   ...                          NaN                       None   \n",
            "3   ...                          NaN                       None   \n",
            "4   ...                          NaN                       None   \n",
            "5   ...                          NaN                       None   \n",
            "6   ...                          NaN                       None   \n",
            "7   ...                          NaN                       None   \n",
            "8   ...                          NaN                       None   \n",
            "9   ...                          NaN                       None   \n",
            "10  ...                   removed123                 removed123   \n",
            "11  ...                   removed123                 removed123   \n",
            "12  ...                   removed123                 removed123   \n",
            "\n",
            "   run_start_flag  sensorbox_drain_solenoid_1_flag  \\\n",
            "0             NaN                              NaN   \n",
            "1             NaN                              NaN   \n",
            "2             NaN                              NaN   \n",
            "3             NaN                              NaN   \n",
            "4             NaN                              NaN   \n",
            "5             NaN                              NaN   \n",
            "6             NaN                              NaN   \n",
            "7             NaN                              NaN   \n",
            "8             NaN                              NaN   \n",
            "9             NaN                              NaN   \n",
            "10     removed123                       removed123   \n",
            "11     removed123                       removed123   \n",
            "12     removed123                       removed123   \n",
            "\n",
            "    sensorbox_drain_solenoid_2_flag  system_state  time(in hrs)  \\\n",
            "0                               NaN           NaN           0.0   \n",
            "1                               NaN           NaN       0.00027   \n",
            "2                               NaN           NaN       0.00054   \n",
            "3                               NaN           NaN       0.00081   \n",
            "4                               NaN           NaN       0.00108   \n",
            "5                               NaN           NaN       0.00135   \n",
            "6                               NaN           NaN       0.00162   \n",
            "7                               NaN           NaN       0.00189   \n",
            "8                               NaN           NaN       0.00216   \n",
            "9                               NaN           NaN       0.00243   \n",
            "10                       removed123    removed123    removed123   \n",
            "11                       removed123    removed123    removed123   \n",
            "12                       removed123    removed123    removed123   \n",
            "\n",
            "   update_controls_var_flag viscometer_temperature viscosity_measured  \n",
            "0                      None                   23.7                0.0  \n",
            "1                      None                   23.7                0.0  \n",
            "2                      None                   23.7                0.0  \n",
            "3                      None                   23.7                0.0  \n",
            "4                      None                   23.7                0.0  \n",
            "5                      None                   23.7                0.0  \n",
            "6                      None                   23.7                0.0  \n",
            "7                      None                   23.7                0.0  \n",
            "8                      None                   23.7                0.0  \n",
            "9                      None                   23.7                0.0  \n",
            "10               removed123             removed123         removed123  \n",
            "11               removed123             removed123         removed123  \n",
            "12               removed123             removed123         removed123  \n",
            "\n",
            "[13 rows x 134 columns]\n",
            "None\n"
          ]
        }
      ]
    },
    {
      "cell_type": "code",
      "source": [
        "print(check_runs_with_variable_dict_new(perfusion_data_subset,variable_dict,schema))"
      ],
      "metadata": {
        "colab": {
          "base_uri": "https://localhost:8080/"
        },
        "id": "bBcdqz3TWnd4",
        "outputId": "202ba799-0240-44d7-be01-e98ec42b692d"
      },
      "execution_count": 482,
      "outputs": [
        {
          "output_type": "stream",
          "name": "stdout",
          "text": [
            "['control_time']\n",
            "['control_time', 'glucose_syringe_pump_buzzer_control']\n",
            "['control_time', 'glucose_syringe_pump_buzzer_control']\n",
            "[]\n",
            "None\n"
          ]
        }
      ]
    },
    {
      "cell_type": "code",
      "source": [
        "from collections import Counter\n",
        "\n",
        "my_list = perfusion_data_subset.columns.to_list()  # Example list\n",
        "\n",
        "# Count occurrences of each element\n",
        "counts = Counter(my_list)\n",
        "\n",
        "# Find duplicate values\n",
        "duplicates = [item for item, count in counts.items() if count > 1]\n",
        "\n",
        "print(\"Duplicate values:\", duplicates)"
      ],
      "metadata": {
        "colab": {
          "base_uri": "https://localhost:8080/"
        },
        "id": "F_Fwgk05wGqm",
        "outputId": "612b0150-da01-4742-d3f4-3aaa918e401f"
      },
      "execution_count": 452,
      "outputs": [
        {
          "output_type": "stream",
          "name": "stdout",
          "text": [
            "Duplicate values: []\n"
          ]
        }
      ]
    },
    {
      "cell_type": "code",
      "source": [
        "perfusion_data_subset['glucose_syringe_pump_volume_setpoint']"
      ],
      "metadata": {
        "id": "z-r7p0cwyZPE"
      },
      "execution_count": null,
      "outputs": []
    },
    {
      "cell_type": "code",
      "source": [
        "def duplicate_columns_func(df):\n",
        "  duplicate_columns = df.columns[df.columns.duplicated()]\n",
        "  print(duplicate_columns)\n",
        "\n",
        "  # Drop just one duplicate column\n",
        "  if duplicate_columns.any():\n",
        "      column_to_drop = duplicate_columns[0]  # Select the first duplicate column to drop\n",
        "      df.drop(columns=column_to_drop, inplace=True)\n",
        "      print(\"Duplicate column dropped:\", column_to_drop)\n",
        "  else:\n",
        "      print(\"No duplicate columns found.\")\n",
        "\n",
        "  print(\"DataFrame after dropping duplicate column:\")\n",
        "  print(df)"
      ],
      "metadata": {
        "id": "v-bmvmWZ0PFU"
      },
      "execution_count": 412,
      "outputs": []
    },
    {
      "cell_type": "code",
      "source": [],
      "metadata": {
        "id": "p6aHudUt0XMI"
      },
      "execution_count": null,
      "outputs": []
    },
    {
      "cell_type": "code",
      "source": [
        "list1 = ['glucose_syringe_pump_volume_setpoint', 'syringe_pump_volume_setpoint', 'glucose_pump_rate_automatic_setpoint']\n",
        "list2 = schema.columns.to_list()\n",
        "list3 = perfusion_data_subset.columns.to_list()"
      ],
      "metadata": {
        "id": "G6plQhq_E5NE"
      },
      "execution_count": 458,
      "outputs": []
    },
    {
      "cell_type": "code",
      "source": [
        "def find_matching_values(list1, list2):\n",
        "    return list(set(list1) & set(list2))"
      ],
      "metadata": {
        "id": "0PHBtvzuFO1X"
      },
      "execution_count": 459,
      "outputs": []
    },
    {
      "cell_type": "code",
      "source": [
        "find_matching_values(list1,list3)\n",
        "#find_matching_values(glucose_syringe_pump_volume_setpoint,glucose_syringe_pump_hour_setrate)"
      ],
      "metadata": {
        "colab": {
          "base_uri": "https://localhost:8080/"
        },
        "id": "_sJfz9p4FP3q",
        "outputId": "c15ad8b6-6066-4b04-acb9-04a09684209d"
      },
      "execution_count": 467,
      "outputs": [
        {
          "output_type": "execute_result",
          "data": {
            "text/plain": [
              "['syringe_pump_volume_setpoint', 'glucose_pump_rate_automatic_setpoint']"
            ]
          },
          "metadata": {},
          "execution_count": 467
        }
      ]
    },
    {
      "cell_type": "code",
      "source": [
        "glucose_syringe_pump_volume_setpoint = ['syringe_pump_manual_setrate', 'glucose_pump_rate_manual_setpoint','glucose_pump_rate_setpoint', 'glucose_pump_rate', 'syringe_pump_rate','glucose_pump_rate_setpoint']\n",
        "glucose_syringe_pump_hour_setrate = ['glucose_syringe_pump_hour_setrate', 'syringe_pump_manual_setrate', 'glucose_pump_rate_manual_setpoint','glucose_pump_rate_setpoint', 'glucose_pump_rate', 'syringe_pump_rate','glucose_pump_rate_setpoint']"
      ],
      "metadata": {
        "id": "luMz91BjHYtI"
      },
      "execution_count": 462,
      "outputs": []
    }
  ]
}